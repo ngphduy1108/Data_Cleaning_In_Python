{
 "cells": [
  {
   "cell_type": "markdown",
   "id": "1621253f",
   "metadata": {},
   "source": [
    "## Table Of Content\n",
    "\n",
    "[1. Introduction](#scrollTo=MqELY80HQBz3)\n",
    "\n",
    "[2. Importing Libraries](#scrollTo=lu3mMqGxQGJS)\n",
    "\n",
    "[3. Reading Datasets](#scrollTo=NXEeqibCQK1b)\n",
    "\n",
    "[4. Dirty Data](#scrollTo=A3WCmnbyQWin)\n",
    "\n",
    ">[4.1.  Date](#scrollTo=Date)\n",
    "\n",
    ">[4.2. Order Type](#scrollTo=4UTMGlGMRq5l)\n",
    "\n",
    ">[4.3. Branch Code](#scrollTo=CzO57r4-cPR9)\n",
    "\n",
    ">[4.4. Order Item](#scrollTo=wR1czu9JuSol)\n",
    "\n",
    ">>[4.4.1 Getting correct menu](#scrollTo=fL1GrilL_FYI)\n",
    "\n",
    ">>[4.4.2 Checking order_items of dirty_data](#scrollTo=iKii_DEuI4J5)\n",
    "\n",
    ">>[4.4.3 Getting final menu with price](#scrollTo=uQf63CxSJSMD)\n",
    "\n",
    ">>[4.4.4 Fix Order Items](#scrollTo=lnNhrdhF_Aw-)\n",
    "\n",
    ">[4.5. Order Price](#scrollTo=iOaBK6UcLxiN)\n",
    "\n",
    ">[4.6. Customer Lat and Customer Long](#scrollTo=lbRsR9J_Vdhn)\n",
    "\n",
    ">[4.7. Distance to Customer](#scrollTo=YgWG_xt4OwF_)\n",
    "\n",
    ">[4.8. Loyalty Check](#scrollTo=XjhQ9MWuQ5mA)\n",
    "\n",
    ">[4.9. Writting Dirty Data](#scrollTo=gOO4qHxq5Ch1)\n",
    "\n",
    "[5. Outlier Data](#scrollTo=O-nzhChe5ydU)\n",
    "\n",
    ">[Writting to files](#scrollTo=5wvGUizRJGhR)\n",
    "\n",
    "[6. Missing Data](#scrollTo=ErJaaR0TMI8U)\n",
    "\n",
    "[7. Summary and observation](#scrollTo=RBqulSC0Y2gc)\n",
    "\n",
    "[Reference](#scrollTo=U_kOh6zG-cdW)"
   ]
  },
  {
   "cell_type": "markdown",
   "id": "20775702",
   "metadata": {},
   "source": [
    "<div class=\"alert alert-block alert-warning\">\n",
    "\n",
    "## 1.  Introduction  <a class=\"anchor\" name=\"Intro\"></a>\n",
    "    \n",
    "</div>\n",
    "\n",
    "This project is about analysing dataset and find then fix the problems in the data. We have three dataset which are dirty data which have errors to be detected and fixed; outlier data which have outlier to be detected and removed; and missing values to be imputed. There are also files that are branches.csv, edges.csv and nodes.csv which can be used to help to detect error and most importantly are creating map to calculate distance. We need to perform graphical and/or non-graphical EDA methods to understand the data first and then find the problems. The tasks are:\n",
    "* Detect and fix errors in dirty_data.csv\n",
    "* Detect and remove outlier rows in outlier_data.csv\n",
    "* Impute the missing values in missing_data.csv"
   ]
  },
  {
   "cell_type": "markdown",
   "id": "888b89c0",
   "metadata": {},
   "source": [
    "<div class=\"alert alert-block alert-warning\">\n",
    "\n",
    "## 2.  Importing Libraries  <a class=\"anchor\" name=\"Libra\"></a>\n",
    "    \n",
    "</div>"
   ]
  },
  {
   "cell_type": "code",
   "execution_count": 1,
   "id": "659cfb8e",
   "metadata": {},
   "outputs": [],
   "source": [
    "import pandas as pd\n",
    "import networkx as nx\n",
    "import re\n",
    "from collections import Counter\n",
    "import numpy as np\n",
    "from itertools import permutations \n",
    "import copy\n",
    "from sklearn.linear_model import LinearRegression\n",
    "from sklearn.model_selection import train_test_split"
   ]
  },
  {
   "cell_type": "markdown",
   "id": "ed18d69b",
   "metadata": {},
   "source": [
    "<div class=\"alert alert-block alert-warning\">\n",
    "\n",
    "## 3.  Reading Datasets  <a class=\"anchor\" name=\"Read\"></a>\n",
    "    \n",
    "</div>\n",
    "\n",
    "For reading dataset, the datasets are in csv files so I use pandas to read the dataset.\n"
   ]
  },
  {
   "cell_type": "code",
   "execution_count": 2,
   "id": "237e346d",
   "metadata": {},
   "outputs": [],
   "source": [
    "dirty_data = pd.read_csv(\"dirty_data.csv\")\n",
    "missing_data = pd.read_csv(\"missing_data.csv\")\n",
    "outlier_data = pd.read_csv(\"outlier_data.csv\")\n",
    "\n",
    "# we make the branches as index column for ease in finding the branches row\n",
    "branches = pd.read_csv(\"branches.csv\", index_col = 0)\n",
    "edges = pd.read_csv(\"edges.csv\")\n",
    "nodes = pd.read_csv(\"nodes.csv\")"
   ]
  },
  {
   "cell_type": "markdown",
   "id": "e1fa16d8",
   "metadata": {},
   "source": [
    "<div class=\"alert alert-block alert-warning\">\n",
    "\n",
    "## 4.  Dirty Data  <a class=\"anchor\" name=\"Dirty\"></a>\n",
    "    \n",
    "</div>\n",
    "\n",
    "Firstly, we will deal with dirty_data dataset. Each row will only have one anomoly and all of them can be fixed. Specs mention that order_id, time, numeric quantity in order_items and delivery_fee are error-free so we can check all things that not mentioned.\n",
    "\n",
    "<div class=\"alert alert-block alert-warning\">\n",
    "\n",
    "### 4.1.  Date<a class=\"anchor\" name=\"Date\"></a>\n",
    "    \n",
    "</div>\n",
    "\n",
    "We first check the datatype of the dirty data. First thing that I think it is not normal is that the date datatype is object. Which might result in different format in date."
   ]
  },
  {
   "cell_type": "code",
   "execution_count": 3,
   "id": "97e8b3e0",
   "metadata": {},
   "outputs": [
    {
     "name": "stdout",
     "output_type": "stream",
     "text": [
      "<class 'pandas.core.frame.DataFrame'>\n",
      "RangeIndex: 500 entries, 0 to 499\n",
      "Data columns (total 12 columns):\n",
      " #   Column                   Non-Null Count  Dtype  \n",
      "---  ------                   --------------  -----  \n",
      " 0   order_id                 500 non-null    object \n",
      " 1   date                     500 non-null    object \n",
      " 2   time                     500 non-null    object \n",
      " 3   order_type               500 non-null    object \n",
      " 4   branch_code              500 non-null    object \n",
      " 5   order_items              500 non-null    object \n",
      " 6   order_price              500 non-null    float64\n",
      " 7   customer_lat             500 non-null    float64\n",
      " 8   customer_lon             500 non-null    float64\n",
      " 9   customerHasloyalty?      500 non-null    int64  \n",
      " 10  distance_to_customer_KM  500 non-null    float64\n",
      " 11  delivery_fee             500 non-null    float64\n",
      "dtypes: float64(5), int64(1), object(6)\n",
      "memory usage: 47.0+ KB\n"
     ]
    }
   ],
   "source": [
    "dirty_data.info()"
   ]
  },
  {
   "cell_type": "markdown",
   "id": "1c21bbd5",
   "metadata": {},
   "source": [
    "I want to get all the date with the format that is different to YYYY-MM-DD. We can check better with following regex:\n",
    "* \\d for taking only digit\n",
    "* then following with \"-\" pattern\n",
    "* 1\\[0-2] and 0\\[0-9] for getting month from 01 to 12\n",
    "* -\\d\\d is for the days\n",
    "\n",
    "With this regex, we can get other format like YYYY-DD-MM or even other unexpected format.\n",
    "\n",
    "![image.png](data:image/png;base64,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)"
   ]
  },
  {
   "cell_type": "code",
   "execution_count": 4,
   "id": "6fb4d6b7",
   "metadata": {},
   "outputs": [
    {
     "data": {
      "text/html": [
       "<div>\n",
       "<style scoped>\n",
       "    .dataframe tbody tr th:only-of-type {\n",
       "        vertical-align: middle;\n",
       "    }\n",
       "\n",
       "    .dataframe tbody tr th {\n",
       "        vertical-align: top;\n",
       "    }\n",
       "\n",
       "    .dataframe thead th {\n",
       "        text-align: right;\n",
       "    }\n",
       "</style>\n",
       "<table border=\"1\" class=\"dataframe\">\n",
       "  <thead>\n",
       "    <tr style=\"text-align: right;\">\n",
       "      <th></th>\n",
       "      <th>order_id</th>\n",
       "      <th>date</th>\n",
       "      <th>time</th>\n",
       "      <th>order_type</th>\n",
       "      <th>branch_code</th>\n",
       "      <th>order_items</th>\n",
       "      <th>order_price</th>\n",
       "      <th>customer_lat</th>\n",
       "      <th>customer_lon</th>\n",
       "      <th>customerHasloyalty?</th>\n",
       "      <th>distance_to_customer_KM</th>\n",
       "      <th>delivery_fee</th>\n",
       "    </tr>\n",
       "  </thead>\n",
       "  <tbody>\n",
       "    <tr>\n",
       "      <th>41</th>\n",
       "      <td>ORDB01380</td>\n",
       "      <td>Tue Dec  7 00:00:00 2021</td>\n",
       "      <td>19:19:26</td>\n",
       "      <td>Dinner</td>\n",
       "      <td>TP</td>\n",
       "      <td>[('Salmon', 7), ('Shrimp', 4)]</td>\n",
       "      <td>503.0</td>\n",
       "      <td>-37.811679</td>\n",
       "      <td>144.964761</td>\n",
       "      <td>0</td>\n",
       "      <td>8.402</td>\n",
       "      <td>12.184178</td>\n",
       "    </tr>\n",
       "    <tr>\n",
       "      <th>112</th>\n",
       "      <td>ORDC10415</td>\n",
       "      <td>Thu Aug 12 00:00:00 2021</td>\n",
       "      <td>15:26:11</td>\n",
       "      <td>Lunch</td>\n",
       "      <td>NS</td>\n",
       "      <td>[('Chicken', 1), ('Fries', 1), ('Steak', 2), (...</td>\n",
       "      <td>471.4</td>\n",
       "      <td>-37.824687</td>\n",
       "      <td>145.005827</td>\n",
       "      <td>0</td>\n",
       "      <td>11.165</td>\n",
       "      <td>16.741809</td>\n",
       "    </tr>\n",
       "    <tr>\n",
       "      <th>208</th>\n",
       "      <td>ORDZ03341</td>\n",
       "      <td>2021-14-09</td>\n",
       "      <td>16:27:02</td>\n",
       "      <td>Dinner</td>\n",
       "      <td>NS</td>\n",
       "      <td>[('Pasta', 7), ('Fish&amp;Chips', 2)]</td>\n",
       "      <td>262.5</td>\n",
       "      <td>-37.819808</td>\n",
       "      <td>144.974575</td>\n",
       "      <td>0</td>\n",
       "      <td>8.498</td>\n",
       "      <td>14.591980</td>\n",
       "    </tr>\n",
       "    <tr>\n",
       "      <th>226</th>\n",
       "      <td>ORDY03134</td>\n",
       "      <td>2021-31-08</td>\n",
       "      <td>15:56:37</td>\n",
       "      <td>Lunch</td>\n",
       "      <td>TP</td>\n",
       "      <td>[('Steak', 8), ('Fries', 8), ('Salad', 9), ('C...</td>\n",
       "      <td>959.8</td>\n",
       "      <td>-37.814350</td>\n",
       "      <td>144.987079</td>\n",
       "      <td>0</td>\n",
       "      <td>9.642</td>\n",
       "      <td>13.311161</td>\n",
       "    </tr>\n",
       "    <tr>\n",
       "      <th>483</th>\n",
       "      <td>ORDX09025</td>\n",
       "      <td>2021-24-09</td>\n",
       "      <td>16:47:19</td>\n",
       "      <td>Dinner</td>\n",
       "      <td>BK</td>\n",
       "      <td>[('Fish&amp;Chips', 9), ('Shrimp', 9), ('Pasta', 3)]</td>\n",
       "      <td>883.5</td>\n",
       "      <td>-37.813887</td>\n",
       "      <td>144.955346</td>\n",
       "      <td>0</td>\n",
       "      <td>8.397</td>\n",
       "      <td>15.683569</td>\n",
       "    </tr>\n",
       "  </tbody>\n",
       "</table>\n",
       "</div>"
      ],
      "text/plain": [
       "      order_id                      date      time order_type branch_code  \\\n",
       "41   ORDB01380  Tue Dec  7 00:00:00 2021  19:19:26     Dinner          TP   \n",
       "112  ORDC10415  Thu Aug 12 00:00:00 2021  15:26:11      Lunch          NS   \n",
       "208  ORDZ03341                2021-14-09  16:27:02     Dinner          NS   \n",
       "226  ORDY03134                2021-31-08  15:56:37      Lunch          TP   \n",
       "483  ORDX09025                2021-24-09  16:47:19     Dinner          BK   \n",
       "\n",
       "                                           order_items  order_price  \\\n",
       "41                      [('Salmon', 7), ('Shrimp', 4)]        503.0   \n",
       "112  [('Chicken', 1), ('Fries', 1), ('Steak', 2), (...        471.4   \n",
       "208                  [('Pasta', 7), ('Fish&Chips', 2)]        262.5   \n",
       "226  [('Steak', 8), ('Fries', 8), ('Salad', 9), ('C...        959.8   \n",
       "483   [('Fish&Chips', 9), ('Shrimp', 9), ('Pasta', 3)]        883.5   \n",
       "\n",
       "     customer_lat  customer_lon  customerHasloyalty?  distance_to_customer_KM  \\\n",
       "41     -37.811679    144.964761                    0                    8.402   \n",
       "112    -37.824687    145.005827                    0                   11.165   \n",
       "208    -37.819808    144.974575                    0                    8.498   \n",
       "226    -37.814350    144.987079                    0                    9.642   \n",
       "483    -37.813887    144.955346                    0                    8.397   \n",
       "\n",
       "     delivery_fee  \n",
       "41      12.184178  \n",
       "112     16.741809  \n",
       "208     14.591980  \n",
       "226     13.311161  \n",
       "483     15.683569  "
      ]
     },
     "execution_count": 4,
     "metadata": {},
     "output_type": "execute_result"
    }
   ],
   "source": [
    "regex = '\\d\\d\\d\\d-(?:1[0-2]|0[1-9])-\\d\\d'\n",
    "dirty_data[dirty_data.date.str.match(regex) != True]"
   ]
  },
  {
   "cell_type": "markdown",
   "id": "14e6e958",
   "metadata": {},
   "source": [
    "As seen from above, there are even format with letter weekday, month by letter and also YYYY-DD-MM format in row 226. Then I decide to change the column date to date datatype so they can have the same format. "
   ]
  },
  {
   "cell_type": "code",
   "execution_count": 5,
   "id": "9c3113dc",
   "metadata": {},
   "outputs": [
    {
     "name": "stderr",
     "output_type": "stream",
     "text": [
      "C:\\Users\\MY PC\\AppData\\Local\\Temp\\ipykernel_21368\\3372302257.py:3: UserWarning: Parsing dates in %Y-%m-%d format when dayfirst=True was specified. Pass `dayfirst=False` or specify a format to silence this warning.\n",
      "  dirty_data['date'] = pd.to_datetime(dirty_data['date'], dayfirst = True)\n"
     ]
    },
    {
     "ename": "ValueError",
     "evalue": "time data \"Tue Dec  7 00:00:00 2021\" doesn't match format \"%Y-%m-%d\", at position 41. You might want to try:\n    - passing `format` if your strings have a consistent format;\n    - passing `format='ISO8601'` if your strings are all ISO8601 but not necessarily in exactly the same format;\n    - passing `format='mixed'`, and the format will be inferred for each element individually. You might want to use `dayfirst` alongside this.",
     "output_type": "error",
     "traceback": [
      "\u001b[1;31m---------------------------------------------------------------------------\u001b[0m",
      "\u001b[1;31mValueError\u001b[0m                                Traceback (most recent call last)",
      "Cell \u001b[1;32mIn[5], line 3\u001b[0m\n\u001b[0;32m      1\u001b[0m \u001b[38;5;66;03m# using panda to change column date to datetime type with argument dayfirst \u001b[39;00m\n\u001b[0;32m      2\u001b[0m \u001b[38;5;66;03m# as true to say that the priority format is YYYY-MM-DD\u001b[39;00m\n\u001b[1;32m----> 3\u001b[0m dirty_data[\u001b[38;5;124m'\u001b[39m\u001b[38;5;124mdate\u001b[39m\u001b[38;5;124m'\u001b[39m] \u001b[38;5;241m=\u001b[39m pd\u001b[38;5;241m.\u001b[39mto_datetime(dirty_data[\u001b[38;5;124m'\u001b[39m\u001b[38;5;124mdate\u001b[39m\u001b[38;5;124m'\u001b[39m], dayfirst \u001b[38;5;241m=\u001b[39m \u001b[38;5;28;01mTrue\u001b[39;00m)\n\u001b[0;32m      4\u001b[0m \u001b[38;5;66;03m# then change back to string data type\u001b[39;00m\n\u001b[0;32m      5\u001b[0m dirty_data[\u001b[38;5;124m'\u001b[39m\u001b[38;5;124mdate\u001b[39m\u001b[38;5;124m'\u001b[39m] \u001b[38;5;241m=\u001b[39m dirty_data[\u001b[38;5;124m'\u001b[39m\u001b[38;5;124mdate\u001b[39m\u001b[38;5;124m'\u001b[39m]\u001b[38;5;241m.\u001b[39mastype(\u001b[38;5;28mstr\u001b[39m)\n",
      "File \u001b[1;32me:\\anaconda3\\Lib\\site-packages\\pandas\\core\\tools\\datetimes.py:1112\u001b[0m, in \u001b[0;36mto_datetime\u001b[1;34m(arg, errors, dayfirst, yearfirst, utc, format, exact, unit, infer_datetime_format, origin, cache)\u001b[0m\n\u001b[0;32m   1110\u001b[0m         result \u001b[38;5;241m=\u001b[39m arg\u001b[38;5;241m.\u001b[39mmap(cache_array)\n\u001b[0;32m   1111\u001b[0m     \u001b[38;5;28;01melse\u001b[39;00m:\n\u001b[1;32m-> 1112\u001b[0m         values \u001b[38;5;241m=\u001b[39m convert_listlike(arg\u001b[38;5;241m.\u001b[39m_values, \u001b[38;5;28mformat\u001b[39m)\n\u001b[0;32m   1113\u001b[0m         result \u001b[38;5;241m=\u001b[39m arg\u001b[38;5;241m.\u001b[39m_constructor(values, index\u001b[38;5;241m=\u001b[39marg\u001b[38;5;241m.\u001b[39mindex, name\u001b[38;5;241m=\u001b[39marg\u001b[38;5;241m.\u001b[39mname)\n\u001b[0;32m   1114\u001b[0m \u001b[38;5;28;01melif\u001b[39;00m \u001b[38;5;28misinstance\u001b[39m(arg, (ABCDataFrame, abc\u001b[38;5;241m.\u001b[39mMutableMapping)):\n",
      "File \u001b[1;32me:\\anaconda3\\Lib\\site-packages\\pandas\\core\\tools\\datetimes.py:488\u001b[0m, in \u001b[0;36m_convert_listlike_datetimes\u001b[1;34m(arg, format, name, utc, unit, errors, dayfirst, yearfirst, exact)\u001b[0m\n\u001b[0;32m    486\u001b[0m \u001b[38;5;66;03m# `format` could be inferred, or user didn't ask for mixed-format parsing.\u001b[39;00m\n\u001b[0;32m    487\u001b[0m \u001b[38;5;28;01mif\u001b[39;00m \u001b[38;5;28mformat\u001b[39m \u001b[38;5;129;01mis\u001b[39;00m \u001b[38;5;129;01mnot\u001b[39;00m \u001b[38;5;28;01mNone\u001b[39;00m \u001b[38;5;129;01mand\u001b[39;00m \u001b[38;5;28mformat\u001b[39m \u001b[38;5;241m!=\u001b[39m \u001b[38;5;124m\"\u001b[39m\u001b[38;5;124mmixed\u001b[39m\u001b[38;5;124m\"\u001b[39m:\n\u001b[1;32m--> 488\u001b[0m     \u001b[38;5;28;01mreturn\u001b[39;00m _array_strptime_with_fallback(arg, name, utc, \u001b[38;5;28mformat\u001b[39m, exact, errors)\n\u001b[0;32m    490\u001b[0m result, tz_parsed \u001b[38;5;241m=\u001b[39m objects_to_datetime64ns(\n\u001b[0;32m    491\u001b[0m     arg,\n\u001b[0;32m    492\u001b[0m     dayfirst\u001b[38;5;241m=\u001b[39mdayfirst,\n\u001b[1;32m   (...)\u001b[0m\n\u001b[0;32m    496\u001b[0m     allow_object\u001b[38;5;241m=\u001b[39m\u001b[38;5;28;01mTrue\u001b[39;00m,\n\u001b[0;32m    497\u001b[0m )\n\u001b[0;32m    499\u001b[0m \u001b[38;5;28;01mif\u001b[39;00m tz_parsed \u001b[38;5;129;01mis\u001b[39;00m \u001b[38;5;129;01mnot\u001b[39;00m \u001b[38;5;28;01mNone\u001b[39;00m:\n\u001b[0;32m    500\u001b[0m     \u001b[38;5;66;03m# We can take a shortcut since the datetime64 numpy array\u001b[39;00m\n\u001b[0;32m    501\u001b[0m     \u001b[38;5;66;03m# is in UTC\u001b[39;00m\n",
      "File \u001b[1;32me:\\anaconda3\\Lib\\site-packages\\pandas\\core\\tools\\datetimes.py:519\u001b[0m, in \u001b[0;36m_array_strptime_with_fallback\u001b[1;34m(arg, name, utc, fmt, exact, errors)\u001b[0m\n\u001b[0;32m    508\u001b[0m \u001b[38;5;28;01mdef\u001b[39;00m \u001b[38;5;21m_array_strptime_with_fallback\u001b[39m(\n\u001b[0;32m    509\u001b[0m     arg,\n\u001b[0;32m    510\u001b[0m     name,\n\u001b[1;32m   (...)\u001b[0m\n\u001b[0;32m    514\u001b[0m     errors: \u001b[38;5;28mstr\u001b[39m,\n\u001b[0;32m    515\u001b[0m ) \u001b[38;5;241m-\u001b[39m\u001b[38;5;241m>\u001b[39m Index:\n\u001b[0;32m    516\u001b[0m \u001b[38;5;250m    \u001b[39m\u001b[38;5;124;03m\"\"\"\u001b[39;00m\n\u001b[0;32m    517\u001b[0m \u001b[38;5;124;03m    Call array_strptime, with fallback behavior depending on 'errors'.\u001b[39;00m\n\u001b[0;32m    518\u001b[0m \u001b[38;5;124;03m    \"\"\"\u001b[39;00m\n\u001b[1;32m--> 519\u001b[0m     result, timezones \u001b[38;5;241m=\u001b[39m array_strptime(arg, fmt, exact\u001b[38;5;241m=\u001b[39mexact, errors\u001b[38;5;241m=\u001b[39merrors, utc\u001b[38;5;241m=\u001b[39mutc)\n\u001b[0;32m    520\u001b[0m     \u001b[38;5;28;01mif\u001b[39;00m \u001b[38;5;28many\u001b[39m(tz \u001b[38;5;129;01mis\u001b[39;00m \u001b[38;5;129;01mnot\u001b[39;00m \u001b[38;5;28;01mNone\u001b[39;00m \u001b[38;5;28;01mfor\u001b[39;00m tz \u001b[38;5;129;01min\u001b[39;00m timezones):\n\u001b[0;32m    521\u001b[0m         \u001b[38;5;28;01mreturn\u001b[39;00m _return_parsed_timezone_results(result, timezones, utc, name)\n",
      "File \u001b[1;32mstrptime.pyx:534\u001b[0m, in \u001b[0;36mpandas._libs.tslibs.strptime.array_strptime\u001b[1;34m()\u001b[0m\n",
      "File \u001b[1;32mstrptime.pyx:355\u001b[0m, in \u001b[0;36mpandas._libs.tslibs.strptime.array_strptime\u001b[1;34m()\u001b[0m\n",
      "\u001b[1;31mValueError\u001b[0m: time data \"Tue Dec  7 00:00:00 2021\" doesn't match format \"%Y-%m-%d\", at position 41. You might want to try:\n    - passing `format` if your strings have a consistent format;\n    - passing `format='ISO8601'` if your strings are all ISO8601 but not necessarily in exactly the same format;\n    - passing `format='mixed'`, and the format will be inferred for each element individually. You might want to use `dayfirst` alongside this."
     ]
    }
   ],
   "source": [
    "\n",
    "# using panda to change column date to datetime type with argument dayfirst \n",
    "# as true to say that the priority format is YYYY-MM-DD\n",
    "dirty_data['date'] = pd.to_datetime(dirty_data['date'], dayfirst = True)\n",
    "# then change back to string data type\n",
    "dirty_data['date'] = dirty_data['date'].astype(str)\n",
    "\n",
    "dirty_data[dirty_data.date.str.match(regex) != True]"
   ]
  },
  {
   "cell_type": "markdown",
   "id": "8b97dbd2",
   "metadata": {},
   "source": [
    "From above observation, the format is correct as there are not row has different format.\n",
    "\n",
    "We can check if the date of the wrong rows above handled correct"
   ]
  },
  {
   "cell_type": "code",
   "execution_count": 6,
   "id": "164ccc82",
   "metadata": {},
   "outputs": [
    {
     "data": {
      "text/html": [
       "<div>\n",
       "<style scoped>\n",
       "    .dataframe tbody tr th:only-of-type {\n",
       "        vertical-align: middle;\n",
       "    }\n",
       "\n",
       "    .dataframe tbody tr th {\n",
       "        vertical-align: top;\n",
       "    }\n",
       "\n",
       "    .dataframe thead th {\n",
       "        text-align: right;\n",
       "    }\n",
       "</style>\n",
       "<table border=\"1\" class=\"dataframe\">\n",
       "  <thead>\n",
       "    <tr style=\"text-align: right;\">\n",
       "      <th></th>\n",
       "      <th>order_id</th>\n",
       "      <th>date</th>\n",
       "      <th>time</th>\n",
       "      <th>order_type</th>\n",
       "      <th>branch_code</th>\n",
       "      <th>order_items</th>\n",
       "      <th>order_price</th>\n",
       "      <th>customer_lat</th>\n",
       "      <th>customer_lon</th>\n",
       "      <th>customerHasloyalty?</th>\n",
       "      <th>distance_to_customer_KM</th>\n",
       "      <th>delivery_fee</th>\n",
       "    </tr>\n",
       "  </thead>\n",
       "  <tbody>\n",
       "    <tr>\n",
       "      <th>41</th>\n",
       "      <td>ORDB01380</td>\n",
       "      <td>Tue Dec  7 00:00:00 2021</td>\n",
       "      <td>19:19:26</td>\n",
       "      <td>Dinner</td>\n",
       "      <td>TP</td>\n",
       "      <td>[('Salmon', 7), ('Shrimp', 4)]</td>\n",
       "      <td>503.0</td>\n",
       "      <td>-37.811679</td>\n",
       "      <td>144.964761</td>\n",
       "      <td>0</td>\n",
       "      <td>8.402</td>\n",
       "      <td>12.184178</td>\n",
       "    </tr>\n",
       "    <tr>\n",
       "      <th>112</th>\n",
       "      <td>ORDC10415</td>\n",
       "      <td>Thu Aug 12 00:00:00 2021</td>\n",
       "      <td>15:26:11</td>\n",
       "      <td>Lunch</td>\n",
       "      <td>NS</td>\n",
       "      <td>[('Chicken', 1), ('Fries', 1), ('Steak', 2), (...</td>\n",
       "      <td>471.4</td>\n",
       "      <td>-37.824687</td>\n",
       "      <td>145.005827</td>\n",
       "      <td>0</td>\n",
       "      <td>11.165</td>\n",
       "      <td>16.741809</td>\n",
       "    </tr>\n",
       "    <tr>\n",
       "      <th>208</th>\n",
       "      <td>ORDZ03341</td>\n",
       "      <td>2021-14-09</td>\n",
       "      <td>16:27:02</td>\n",
       "      <td>Dinner</td>\n",
       "      <td>NS</td>\n",
       "      <td>[('Pasta', 7), ('Fish&amp;Chips', 2)]</td>\n",
       "      <td>262.5</td>\n",
       "      <td>-37.819808</td>\n",
       "      <td>144.974575</td>\n",
       "      <td>0</td>\n",
       "      <td>8.498</td>\n",
       "      <td>14.591980</td>\n",
       "    </tr>\n",
       "    <tr>\n",
       "      <th>226</th>\n",
       "      <td>ORDY03134</td>\n",
       "      <td>2021-31-08</td>\n",
       "      <td>15:56:37</td>\n",
       "      <td>Lunch</td>\n",
       "      <td>TP</td>\n",
       "      <td>[('Steak', 8), ('Fries', 8), ('Salad', 9), ('C...</td>\n",
       "      <td>959.8</td>\n",
       "      <td>-37.814350</td>\n",
       "      <td>144.987079</td>\n",
       "      <td>0</td>\n",
       "      <td>9.642</td>\n",
       "      <td>13.311161</td>\n",
       "    </tr>\n",
       "    <tr>\n",
       "      <th>483</th>\n",
       "      <td>ORDX09025</td>\n",
       "      <td>2021-24-09</td>\n",
       "      <td>16:47:19</td>\n",
       "      <td>Dinner</td>\n",
       "      <td>BK</td>\n",
       "      <td>[('Fish&amp;Chips', 9), ('Shrimp', 9), ('Pasta', 3)]</td>\n",
       "      <td>883.5</td>\n",
       "      <td>-37.813887</td>\n",
       "      <td>144.955346</td>\n",
       "      <td>0</td>\n",
       "      <td>8.397</td>\n",
       "      <td>15.683569</td>\n",
       "    </tr>\n",
       "  </tbody>\n",
       "</table>\n",
       "</div>"
      ],
      "text/plain": [
       "      order_id                      date      time order_type branch_code  \\\n",
       "41   ORDB01380  Tue Dec  7 00:00:00 2021  19:19:26     Dinner          TP   \n",
       "112  ORDC10415  Thu Aug 12 00:00:00 2021  15:26:11      Lunch          NS   \n",
       "208  ORDZ03341                2021-14-09  16:27:02     Dinner          NS   \n",
       "226  ORDY03134                2021-31-08  15:56:37      Lunch          TP   \n",
       "483  ORDX09025                2021-24-09  16:47:19     Dinner          BK   \n",
       "\n",
       "                                           order_items  order_price  \\\n",
       "41                      [('Salmon', 7), ('Shrimp', 4)]        503.0   \n",
       "112  [('Chicken', 1), ('Fries', 1), ('Steak', 2), (...        471.4   \n",
       "208                  [('Pasta', 7), ('Fish&Chips', 2)]        262.5   \n",
       "226  [('Steak', 8), ('Fries', 8), ('Salad', 9), ('C...        959.8   \n",
       "483   [('Fish&Chips', 9), ('Shrimp', 9), ('Pasta', 3)]        883.5   \n",
       "\n",
       "     customer_lat  customer_lon  customerHasloyalty?  distance_to_customer_KM  \\\n",
       "41     -37.811679    144.964761                    0                    8.402   \n",
       "112    -37.824687    145.005827                    0                   11.165   \n",
       "208    -37.819808    144.974575                    0                    8.498   \n",
       "226    -37.814350    144.987079                    0                    9.642   \n",
       "483    -37.813887    144.955346                    0                    8.397   \n",
       "\n",
       "     delivery_fee  \n",
       "41      12.184178  \n",
       "112     16.741809  \n",
       "208     14.591980  \n",
       "226     13.311161  \n",
       "483     15.683569  "
      ]
     },
     "execution_count": 6,
     "metadata": {},
     "output_type": "execute_result"
    }
   ],
   "source": [
    "dirty_data.iloc[[41, 112, 208, 226, 483], :]"
   ]
  },
  {
   "cell_type": "markdown",
   "id": "f33f9c63",
   "metadata": {},
   "source": [
    "As seen from above, all rows now have same format as YYYY-MM-DD. We can check other rows."
   ]
  },
  {
   "cell_type": "code",
   "execution_count": 7,
   "id": "acaee8d0",
   "metadata": {},
   "outputs": [
    {
     "data": {
      "text/html": [
       "<div>\n",
       "<style scoped>\n",
       "    .dataframe tbody tr th:only-of-type {\n",
       "        vertical-align: middle;\n",
       "    }\n",
       "\n",
       "    .dataframe tbody tr th {\n",
       "        vertical-align: top;\n",
       "    }\n",
       "\n",
       "    .dataframe thead th {\n",
       "        text-align: right;\n",
       "    }\n",
       "</style>\n",
       "<table border=\"1\" class=\"dataframe\">\n",
       "  <thead>\n",
       "    <tr style=\"text-align: right;\">\n",
       "      <th></th>\n",
       "      <th>order_id</th>\n",
       "      <th>date</th>\n",
       "      <th>time</th>\n",
       "      <th>order_type</th>\n",
       "      <th>branch_code</th>\n",
       "      <th>order_items</th>\n",
       "      <th>order_price</th>\n",
       "      <th>customer_lat</th>\n",
       "      <th>customer_lon</th>\n",
       "      <th>customerHasloyalty?</th>\n",
       "      <th>distance_to_customer_KM</th>\n",
       "      <th>delivery_fee</th>\n",
       "    </tr>\n",
       "  </thead>\n",
       "  <tbody>\n",
       "    <tr>\n",
       "      <th>0</th>\n",
       "      <td>ORDC02343</td>\n",
       "      <td>2021-09-17</td>\n",
       "      <td>16:37:10</td>\n",
       "      <td>Dinner</td>\n",
       "      <td>NS</td>\n",
       "      <td>[('Salmon', 6), ('Shrimp', 7), ('Pasta', 5)]</td>\n",
       "      <td>761.5</td>\n",
       "      <td>-37.824761</td>\n",
       "      <td>144.988720</td>\n",
       "      <td>0</td>\n",
       "      <td>9.658</td>\n",
       "      <td>15.493916</td>\n",
       "    </tr>\n",
       "    <tr>\n",
       "      <th>1</th>\n",
       "      <td>ORDJ01024</td>\n",
       "      <td>2021-09-09</td>\n",
       "      <td>16:16:54</td>\n",
       "      <td>Dinner</td>\n",
       "      <td>TP</td>\n",
       "      <td>[('Salmon', 8), ('Fish&amp;Chips', 4)]</td>\n",
       "      <td>468.0</td>\n",
       "      <td>-37.823298</td>\n",
       "      <td>144.976371</td>\n",
       "      <td>0</td>\n",
       "      <td>8.140</td>\n",
       "      <td>12.373766</td>\n",
       "    </tr>\n",
       "    <tr>\n",
       "      <th>2</th>\n",
       "      <td>ORDK01604</td>\n",
       "      <td>2021-07-05</td>\n",
       "      <td>14:05:04</td>\n",
       "      <td>Lunch</td>\n",
       "      <td>BK</td>\n",
       "      <td>[('Steak', 4), ('Fries', 7), ('Burger', 5), ('...</td>\n",
       "      <td>483.0</td>\n",
       "      <td>-37.800025</td>\n",
       "      <td>144.985956</td>\n",
       "      <td>0</td>\n",
       "      <td>6.336</td>\n",
       "      <td>12.691987</td>\n",
       "    </tr>\n",
       "    <tr>\n",
       "      <th>3</th>\n",
       "      <td>ORDI10356</td>\n",
       "      <td>2021-05-25</td>\n",
       "      <td>12:43:56</td>\n",
       "      <td>Lunch</td>\n",
       "      <td>NS</td>\n",
       "      <td>[('Salad', 4), ('Fries', 6)]</td>\n",
       "      <td>140.8</td>\n",
       "      <td>-37.814918</td>\n",
       "      <td>144.982753</td>\n",
       "      <td>0</td>\n",
       "      <td>8.481</td>\n",
       "      <td>13.616527</td>\n",
       "    </tr>\n",
       "    <tr>\n",
       "      <th>4</th>\n",
       "      <td>ORDX02768</td>\n",
       "      <td>2021-12-26</td>\n",
       "      <td>19:49:51</td>\n",
       "      <td>Dinner</td>\n",
       "      <td>BK</td>\n",
       "      <td>[('Pasta', 10), ('Shrimp', 6)]</td>\n",
       "      <td>599.0</td>\n",
       "      <td>-37.814828</td>\n",
       "      <td>144.932784</td>\n",
       "      <td>0</td>\n",
       "      <td>10.978</td>\n",
       "      <td>20.818866</td>\n",
       "    </tr>\n",
       "  </tbody>\n",
       "</table>\n",
       "</div>"
      ],
      "text/plain": [
       "    order_id        date      time order_type branch_code  \\\n",
       "0  ORDC02343  2021-09-17  16:37:10     Dinner          NS   \n",
       "1  ORDJ01024  2021-09-09  16:16:54     Dinner          TP   \n",
       "2  ORDK01604  2021-07-05  14:05:04      Lunch          BK   \n",
       "3  ORDI10356  2021-05-25  12:43:56      Lunch          NS   \n",
       "4  ORDX02768  2021-12-26  19:49:51     Dinner          BK   \n",
       "\n",
       "                                         order_items  order_price  \\\n",
       "0       [('Salmon', 6), ('Shrimp', 7), ('Pasta', 5)]        761.5   \n",
       "1                 [('Salmon', 8), ('Fish&Chips', 4)]        468.0   \n",
       "2  [('Steak', 4), ('Fries', 7), ('Burger', 5), ('...        483.0   \n",
       "3                       [('Salad', 4), ('Fries', 6)]        140.8   \n",
       "4                     [('Pasta', 10), ('Shrimp', 6)]        599.0   \n",
       "\n",
       "   customer_lat  customer_lon  customerHasloyalty?  distance_to_customer_KM  \\\n",
       "0    -37.824761    144.988720                    0                    9.658   \n",
       "1    -37.823298    144.976371                    0                    8.140   \n",
       "2    -37.800025    144.985956                    0                    6.336   \n",
       "3    -37.814918    144.982753                    0                    8.481   \n",
       "4    -37.814828    144.932784                    0                   10.978   \n",
       "\n",
       "   delivery_fee  \n",
       "0     15.493916  \n",
       "1     12.373766  \n",
       "2     12.691987  \n",
       "3     13.616527  \n",
       "4     20.818866  "
      ]
     },
     "execution_count": 7,
     "metadata": {},
     "output_type": "execute_result"
    }
   ],
   "source": [
    "dirty_data.head()"
   ]
  },
  {
   "cell_type": "markdown",
   "id": "8507d166",
   "metadata": {},
   "source": [
    "The other rows that did not have errors before also have the same format.\n",
    "\n",
    "<div class=\"alert alert-block alert-warning\">\n",
    "\n",
    "### 4.2. Order Type <a class=\"anchor\" name=\"Type\"></a>\n",
    "    \n",
    "</div>\n",
    "\n",
    "As mentioned in the spec, there are three types of meals:\n",
    "* Breakfast: 8am - 12pm\n",
    "* Lunch: 12:00:01pm - 4pm\n",
    "* Dinner: 4:00:01pm - 8pm\n",
    "\n",
    "As we know that the time column is correct. We can check if the order type is correct as below.\n",
    "\n",
    "Breakfast"
   ]
  },
  {
   "cell_type": "code",
   "execution_count": 9,
   "id": "2157e4c2",
   "metadata": {},
   "outputs": [
    {
     "data": {
      "text/plain": [
       "order_type\n",
       "Breakfast    151\n",
       "Name: count, dtype: int64"
      ]
     },
     "execution_count": 9,
     "metadata": {},
     "output_type": "execute_result"
    }
   ],
   "source": [
    "dirty_data[(dirty_data.time >= \"08:00:00\") & (dirty_data.time <= \"12:00:00\")].order_type.value_counts()"
   ]
  },
  {
   "cell_type": "markdown",
   "id": "af614dcb",
   "metadata": {},
   "source": [
    "Lunch"
   ]
  },
  {
   "cell_type": "code",
   "execution_count": 10,
   "id": "3e6541d3",
   "metadata": {},
   "outputs": [
    {
     "data": {
      "text/plain": [
       "order_type\n",
       "Lunch     177\n",
       "Dinner      1\n",
       "Name: count, dtype: int64"
      ]
     },
     "execution_count": 10,
     "metadata": {},
     "output_type": "execute_result"
    }
   ],
   "source": [
    "dirty_data[(dirty_data.time >= \"12:00:01\") & (dirty_data.time <= \"16:00:00\")].order_type.value_counts()"
   ]
  },
  {
   "cell_type": "markdown",
   "id": "5684e994",
   "metadata": {},
   "source": [
    "Dinner"
   ]
  },
  {
   "cell_type": "code",
   "execution_count": 11,
   "id": "d04d7c9e",
   "metadata": {},
   "outputs": [
    {
     "data": {
      "text/plain": [
       "order_type\n",
       "Dinner       167\n",
       "Breakfast      3\n",
       "Lunch          1\n",
       "Name: count, dtype: int64"
      ]
     },
     "execution_count": 11,
     "metadata": {},
     "output_type": "execute_result"
    }
   ],
   "source": [
    "dirty_data[(dirty_data.time >= \"16:00:01\") & (dirty_data.time <= \"20:00:00\")].order_type.value_counts()"
   ]
  },
  {
   "cell_type": "markdown",
   "id": "af7252f1",
   "metadata": {},
   "source": [
    "As we can seen above, the order type of Lunch and Dinner has other order type. We need to fix it as below.\n",
    "\n",
    "We check again if the order type is correct"
   ]
  },
  {
   "cell_type": "code",
   "execution_count": 12,
   "id": "129c65c1",
   "metadata": {},
   "outputs": [],
   "source": [
    "\n",
    "for i in range(len(dirty_data)):\n",
    "  # getting value time at row i\n",
    "  time = dirty_data.at[i, \"time\"]\n",
    "  meal_type = \"\"\n",
    "  # condition as mentioned in the assignment specs \n",
    "  if time >= \"08:00:00\" and time <= \"12:00:00\":\n",
    "    meal_type = \"Breakfast\"\n",
    "  elif time >= \"12:00:01\" and time <= \"16:00:00\":\n",
    "    meal_type = \"Lunch\"\n",
    "  else:\n",
    "    meal_type = \"Dinner\"\n",
    "  # we only change the value if it is wrong\n",
    "  if meal_type != dirty_data.at[i, \"order_type\"]:\n",
    "    dirty_data.at[i, \"order_type\"] = meal_type\n"
   ]
  },
  {
   "cell_type": "code",
   "execution_count": 13,
   "id": "8446afc8",
   "metadata": {},
   "outputs": [
    {
     "data": {
      "text/plain": [
       "order_type\n",
       "Dinner    171\n",
       "Name: count, dtype: int64"
      ]
     },
     "execution_count": 13,
     "metadata": {},
     "output_type": "execute_result"
    }
   ],
   "source": [
    "dirty_data[(dirty_data.time >= \"08:00:00\") & (dirty_data.time <= \"12:00:00\")].order_type.value_counts()\n",
    "\n",
    "dirty_data[(dirty_data.time >= \"12:00:01\") & (dirty_data.time <= \"16:00:00\")].order_type.value_counts()\n",
    "\n",
    "dirty_data[(dirty_data.time >= \"16:00:01\") & (dirty_data.time <= \"20:00:00\")].order_type.value_counts()"
   ]
  },
  {
   "cell_type": "markdown",
   "id": "8d39a27e",
   "metadata": {},
   "source": [
    "All the order type are correct as seen above.\n",
    "\n",
    "<div class=\"alert alert-block alert-warning\">\n",
    "\n",
    "### 4.3. Branch Code <a class=\"anchor\" name=\"Branch\"></a>\n",
    "    \n",
    "</div>\n",
    "\n",
    "We can see from below that the branch_code has 5 unique values. Although there are only 3 branches from the branches dataset."
   ]
  },
  {
   "cell_type": "code",
   "execution_count": 14,
   "id": "bb5f7e6b",
   "metadata": {},
   "outputs": [
    {
     "data": {
      "text/html": [
       "<div>\n",
       "<style scoped>\n",
       "    .dataframe tbody tr th:only-of-type {\n",
       "        vertical-align: middle;\n",
       "    }\n",
       "\n",
       "    .dataframe tbody tr th {\n",
       "        vertical-align: top;\n",
       "    }\n",
       "\n",
       "    .dataframe thead th {\n",
       "        text-align: right;\n",
       "    }\n",
       "</style>\n",
       "<table border=\"1\" class=\"dataframe\">\n",
       "  <thead>\n",
       "    <tr style=\"text-align: right;\">\n",
       "      <th></th>\n",
       "      <th>branch_name</th>\n",
       "      <th>branch_lat</th>\n",
       "      <th>branch_lon</th>\n",
       "    </tr>\n",
       "    <tr>\n",
       "      <th>branch_code</th>\n",
       "      <th></th>\n",
       "      <th></th>\n",
       "      <th></th>\n",
       "    </tr>\n",
       "  </thead>\n",
       "  <tbody>\n",
       "    <tr>\n",
       "      <th>NS</th>\n",
       "      <td>Nickolson</td>\n",
       "      <td>-37.773803</td>\n",
       "      <td>144.983647</td>\n",
       "    </tr>\n",
       "    <tr>\n",
       "      <th>TP</th>\n",
       "      <td>Thompson</td>\n",
       "      <td>-37.861835</td>\n",
       "      <td>144.905716</td>\n",
       "    </tr>\n",
       "    <tr>\n",
       "      <th>BK</th>\n",
       "      <td>Bakers</td>\n",
       "      <td>-37.815834</td>\n",
       "      <td>145.046450</td>\n",
       "    </tr>\n",
       "  </tbody>\n",
       "</table>\n",
       "</div>"
      ],
      "text/plain": [
       "            branch_name  branch_lat  branch_lon\n",
       "branch_code                                    \n",
       "NS            Nickolson  -37.773803  144.983647\n",
       "TP             Thompson  -37.861835  144.905716\n",
       "BK               Bakers  -37.815834  145.046450"
      ]
     },
     "execution_count": 14,
     "metadata": {},
     "output_type": "execute_result"
    }
   ],
   "source": [
    "branches"
   ]
  },
  {
   "cell_type": "code",
   "execution_count": 15,
   "id": "20eef7e3",
   "metadata": {},
   "outputs": [
    {
     "data": {
      "text/html": [
       "<div>\n",
       "<style scoped>\n",
       "    .dataframe tbody tr th:only-of-type {\n",
       "        vertical-align: middle;\n",
       "    }\n",
       "\n",
       "    .dataframe tbody tr th {\n",
       "        vertical-align: top;\n",
       "    }\n",
       "\n",
       "    .dataframe thead th {\n",
       "        text-align: right;\n",
       "    }\n",
       "</style>\n",
       "<table border=\"1\" class=\"dataframe\">\n",
       "  <thead>\n",
       "    <tr style=\"text-align: right;\">\n",
       "      <th></th>\n",
       "      <th>order_id</th>\n",
       "      <th>date</th>\n",
       "      <th>time</th>\n",
       "      <th>order_type</th>\n",
       "      <th>branch_code</th>\n",
       "      <th>order_items</th>\n",
       "    </tr>\n",
       "  </thead>\n",
       "  <tbody>\n",
       "    <tr>\n",
       "      <th>count</th>\n",
       "      <td>500</td>\n",
       "      <td>500</td>\n",
       "      <td>500</td>\n",
       "      <td>500</td>\n",
       "      <td>500</td>\n",
       "      <td>500</td>\n",
       "    </tr>\n",
       "    <tr>\n",
       "      <th>unique</th>\n",
       "      <td>500</td>\n",
       "      <td>279</td>\n",
       "      <td>72</td>\n",
       "      <td>3</td>\n",
       "      <td>5</td>\n",
       "      <td>496</td>\n",
       "    </tr>\n",
       "    <tr>\n",
       "      <th>top</th>\n",
       "      <td>ORDC02343</td>\n",
       "      <td>2021-10-25</td>\n",
       "      <td>17:48:10</td>\n",
       "      <td>Lunch</td>\n",
       "      <td>TP</td>\n",
       "      <td>[('Fish&amp;Chips', 10), ('Shrimp', 4)]</td>\n",
       "    </tr>\n",
       "    <tr>\n",
       "      <th>freq</th>\n",
       "      <td>1</td>\n",
       "      <td>5</td>\n",
       "      <td>14</td>\n",
       "      <td>178</td>\n",
       "      <td>167</td>\n",
       "      <td>2</td>\n",
       "    </tr>\n",
       "  </tbody>\n",
       "</table>\n",
       "</div>"
      ],
      "text/plain": [
       "         order_id        date      time order_type branch_code  \\\n",
       "count         500         500       500        500         500   \n",
       "unique        500         279        72          3           5   \n",
       "top     ORDC02343  2021-10-25  17:48:10      Lunch          TP   \n",
       "freq            1           5        14        178         167   \n",
       "\n",
       "                                order_items  \n",
       "count                                   500  \n",
       "unique                                  496  \n",
       "top     [('Fish&Chips', 10), ('Shrimp', 4)]  \n",
       "freq                                      2  "
      ]
     },
     "execution_count": 15,
     "metadata": {},
     "output_type": "execute_result"
    }
   ],
   "source": [
    "dirty_data.describe(include=['O'])"
   ]
  },
  {
   "cell_type": "markdown",
   "id": "dc276990",
   "metadata": {},
   "source": [
    "As seen below, there are ns and tp which is in lowercase. We have to change it to uppercases."
   ]
  },
  {
   "cell_type": "code",
   "execution_count": 16,
   "id": "6d68b10a",
   "metadata": {},
   "outputs": [
    {
     "data": {
      "text/plain": [
       "branch_code\n",
       "TP    168\n",
       "NS    166\n",
       "BK    166\n",
       "Name: count, dtype: int64"
      ]
     },
     "execution_count": 16,
     "metadata": {},
     "output_type": "execute_result"
    }
   ],
   "source": [
    "# count values of each unique branch_code\n",
    "dirty_data.branch_code.value_counts()\n",
    "\n",
    "# apply str.upper function to branch_code column values to change \n",
    "# all the row value of branch_code to upper\n",
    "dirty_data['branch_code'] = dirty_data['branch_code'].apply(str.upper)\n",
    "dirty_data.branch_code.value_counts()"
   ]
  },
  {
   "cell_type": "markdown",
   "id": "bfee097f",
   "metadata": {},
   "source": [
    "We also need to check if there is relationship between Order ID and branch_code. This might make sense as each branch_code might have different order_id syntax"
   ]
  },
  {
   "cell_type": "code",
   "execution_count": 17,
   "id": "8d427546",
   "metadata": {},
   "outputs": [
    {
     "data": {
      "text/html": [
       "<div>\n",
       "<style scoped>\n",
       "    .dataframe tbody tr th:only-of-type {\n",
       "        vertical-align: middle;\n",
       "    }\n",
       "\n",
       "    .dataframe tbody tr th {\n",
       "        vertical-align: top;\n",
       "    }\n",
       "\n",
       "    .dataframe thead th {\n",
       "        text-align: right;\n",
       "    }\n",
       "</style>\n",
       "<table border=\"1\" class=\"dataframe\">\n",
       "  <thead>\n",
       "    <tr style=\"text-align: right;\">\n",
       "      <th></th>\n",
       "      <th>order_id</th>\n",
       "      <th>date</th>\n",
       "      <th>time</th>\n",
       "      <th>order_type</th>\n",
       "      <th>branch_code</th>\n",
       "      <th>order_items</th>\n",
       "      <th>order_price</th>\n",
       "      <th>customer_lat</th>\n",
       "      <th>customer_lon</th>\n",
       "      <th>customerHasloyalty?</th>\n",
       "      <th>distance_to_customer_KM</th>\n",
       "      <th>delivery_fee</th>\n",
       "    </tr>\n",
       "  </thead>\n",
       "  <tbody>\n",
       "    <tr>\n",
       "      <th>0</th>\n",
       "      <td>ORDC02343</td>\n",
       "      <td>2021-09-17</td>\n",
       "      <td>16:37:10</td>\n",
       "      <td>Dinner</td>\n",
       "      <td>NS</td>\n",
       "      <td>[('Salmon', 6), ('Shrimp', 7), ('Pasta', 5)]</td>\n",
       "      <td>761.50</td>\n",
       "      <td>-37.824761</td>\n",
       "      <td>144.988720</td>\n",
       "      <td>0</td>\n",
       "      <td>9.658</td>\n",
       "      <td>15.493916</td>\n",
       "    </tr>\n",
       "    <tr>\n",
       "      <th>1</th>\n",
       "      <td>ORDJ01024</td>\n",
       "      <td>2021-09-09</td>\n",
       "      <td>16:16:54</td>\n",
       "      <td>Dinner</td>\n",
       "      <td>TP</td>\n",
       "      <td>[('Salmon', 8), ('Fish&amp;Chips', 4)]</td>\n",
       "      <td>468.00</td>\n",
       "      <td>-37.823298</td>\n",
       "      <td>144.976371</td>\n",
       "      <td>0</td>\n",
       "      <td>8.140</td>\n",
       "      <td>12.373766</td>\n",
       "    </tr>\n",
       "    <tr>\n",
       "      <th>2</th>\n",
       "      <td>ORDK01604</td>\n",
       "      <td>2021-07-05</td>\n",
       "      <td>14:05:04</td>\n",
       "      <td>Lunch</td>\n",
       "      <td>BK</td>\n",
       "      <td>[('Steak', 4), ('Fries', 7), ('Burger', 5), ('...</td>\n",
       "      <td>483.00</td>\n",
       "      <td>-37.800025</td>\n",
       "      <td>144.985956</td>\n",
       "      <td>0</td>\n",
       "      <td>6.336</td>\n",
       "      <td>12.691987</td>\n",
       "    </tr>\n",
       "    <tr>\n",
       "      <th>3</th>\n",
       "      <td>ORDI10356</td>\n",
       "      <td>2021-05-25</td>\n",
       "      <td>12:43:56</td>\n",
       "      <td>Lunch</td>\n",
       "      <td>NS</td>\n",
       "      <td>[('Salad', 4), ('Fries', 6)]</td>\n",
       "      <td>140.80</td>\n",
       "      <td>-37.814918</td>\n",
       "      <td>144.982753</td>\n",
       "      <td>0</td>\n",
       "      <td>8.481</td>\n",
       "      <td>13.616527</td>\n",
       "    </tr>\n",
       "    <tr>\n",
       "      <th>4</th>\n",
       "      <td>ORDX02768</td>\n",
       "      <td>2021-12-26</td>\n",
       "      <td>19:49:51</td>\n",
       "      <td>Dinner</td>\n",
       "      <td>BK</td>\n",
       "      <td>[('Pasta', 10), ('Shrimp', 6)]</td>\n",
       "      <td>599.00</td>\n",
       "      <td>-37.814828</td>\n",
       "      <td>144.932784</td>\n",
       "      <td>0</td>\n",
       "      <td>10.978</td>\n",
       "      <td>20.818866</td>\n",
       "    </tr>\n",
       "    <tr>\n",
       "      <th>5</th>\n",
       "      <td>ORDK06172</td>\n",
       "      <td>2021-07-25</td>\n",
       "      <td>14:45:38</td>\n",
       "      <td>Lunch</td>\n",
       "      <td>BK</td>\n",
       "      <td>[('Salad', 5), ('Chicken', 7)]</td>\n",
       "      <td>310.00</td>\n",
       "      <td>-37.813127</td>\n",
       "      <td>144.951512</td>\n",
       "      <td>0</td>\n",
       "      <td>8.546</td>\n",
       "      <td>17.219538</td>\n",
       "    </tr>\n",
       "    <tr>\n",
       "      <th>6</th>\n",
       "      <td>ORDZ08681</td>\n",
       "      <td>2021-04-18</td>\n",
       "      <td>11:32:57</td>\n",
       "      <td>Breakfast</td>\n",
       "      <td>NS</td>\n",
       "      <td>[('Coffee', 7), ('Cereal', 6), ('Pancake', 10)...</td>\n",
       "      <td>549.00</td>\n",
       "      <td>-37.823910</td>\n",
       "      <td>144.990186</td>\n",
       "      <td>0</td>\n",
       "      <td>9.633</td>\n",
       "      <td>16.686163</td>\n",
       "    </tr>\n",
       "    <tr>\n",
       "      <th>7</th>\n",
       "      <td>ORDX04013</td>\n",
       "      <td>2021-07-15</td>\n",
       "      <td>14:25:21</td>\n",
       "      <td>Lunch</td>\n",
       "      <td>BK</td>\n",
       "      <td>[('Fries', 9), ('Chicken', 2), ('Burger', 1), ...</td>\n",
       "      <td>383.00</td>\n",
       "      <td>-37.819475</td>\n",
       "      <td>144.981763</td>\n",
       "      <td>0</td>\n",
       "      <td>6.596</td>\n",
       "      <td>12.318562</td>\n",
       "    </tr>\n",
       "    <tr>\n",
       "      <th>8</th>\n",
       "      <td>ORDI08234</td>\n",
       "      <td>2021-04-07</td>\n",
       "      <td>11:12:40</td>\n",
       "      <td>Breakfast</td>\n",
       "      <td>NS</td>\n",
       "      <td>[('Eggs', 4), ('Cereal', 2), ('Pancake', 10), ...</td>\n",
       "      <td>374.00</td>\n",
       "      <td>-37.819248</td>\n",
       "      <td>144.946401</td>\n",
       "      <td>0</td>\n",
       "      <td>9.657</td>\n",
       "      <td>14.483786</td>\n",
       "    </tr>\n",
       "    <tr>\n",
       "      <th>9</th>\n",
       "      <td>ORDB10334</td>\n",
       "      <td>2021-01-26</td>\n",
       "      <td>08:50:42</td>\n",
       "      <td>Breakfast</td>\n",
       "      <td>TP</td>\n",
       "      <td>[('Pancake', 5), ('Cereal', 8)]</td>\n",
       "      <td>271.25</td>\n",
       "      <td>-37.818102</td>\n",
       "      <td>144.931780</td>\n",
       "      <td>0</td>\n",
       "      <td>10.717</td>\n",
       "      <td>13.321566</td>\n",
       "    </tr>\n",
       "  </tbody>\n",
       "</table>\n",
       "</div>"
      ],
      "text/plain": [
       "    order_id        date      time order_type branch_code  \\\n",
       "0  ORDC02343  2021-09-17  16:37:10     Dinner          NS   \n",
       "1  ORDJ01024  2021-09-09  16:16:54     Dinner          TP   \n",
       "2  ORDK01604  2021-07-05  14:05:04      Lunch          BK   \n",
       "3  ORDI10356  2021-05-25  12:43:56      Lunch          NS   \n",
       "4  ORDX02768  2021-12-26  19:49:51     Dinner          BK   \n",
       "5  ORDK06172  2021-07-25  14:45:38      Lunch          BK   \n",
       "6  ORDZ08681  2021-04-18  11:32:57  Breakfast          NS   \n",
       "7  ORDX04013  2021-07-15  14:25:21      Lunch          BK   \n",
       "8  ORDI08234  2021-04-07  11:12:40  Breakfast          NS   \n",
       "9  ORDB10334  2021-01-26  08:50:42  Breakfast          TP   \n",
       "\n",
       "                                         order_items  order_price  \\\n",
       "0       [('Salmon', 6), ('Shrimp', 7), ('Pasta', 5)]       761.50   \n",
       "1                 [('Salmon', 8), ('Fish&Chips', 4)]       468.00   \n",
       "2  [('Steak', 4), ('Fries', 7), ('Burger', 5), ('...       483.00   \n",
       "3                       [('Salad', 4), ('Fries', 6)]       140.80   \n",
       "4                     [('Pasta', 10), ('Shrimp', 6)]       599.00   \n",
       "5                     [('Salad', 5), ('Chicken', 7)]       310.00   \n",
       "6  [('Coffee', 7), ('Cereal', 6), ('Pancake', 10)...       549.00   \n",
       "7  [('Fries', 9), ('Chicken', 2), ('Burger', 1), ...       383.00   \n",
       "8  [('Eggs', 4), ('Cereal', 2), ('Pancake', 10), ...       374.00   \n",
       "9                    [('Pancake', 5), ('Cereal', 8)]       271.25   \n",
       "\n",
       "   customer_lat  customer_lon  customerHasloyalty?  distance_to_customer_KM  \\\n",
       "0    -37.824761    144.988720                    0                    9.658   \n",
       "1    -37.823298    144.976371                    0                    8.140   \n",
       "2    -37.800025    144.985956                    0                    6.336   \n",
       "3    -37.814918    144.982753                    0                    8.481   \n",
       "4    -37.814828    144.932784                    0                   10.978   \n",
       "5    -37.813127    144.951512                    0                    8.546   \n",
       "6    -37.823910    144.990186                    0                    9.633   \n",
       "7    -37.819475    144.981763                    0                    6.596   \n",
       "8    -37.819248    144.946401                    0                    9.657   \n",
       "9    -37.818102    144.931780                    0                   10.717   \n",
       "\n",
       "   delivery_fee  \n",
       "0     15.493916  \n",
       "1     12.373766  \n",
       "2     12.691987  \n",
       "3     13.616527  \n",
       "4     20.818866  \n",
       "5     17.219538  \n",
       "6     16.686163  \n",
       "7     12.318562  \n",
       "8     14.483786  \n",
       "9     13.321566  "
      ]
     },
     "execution_count": 17,
     "metadata": {},
     "output_type": "execute_result"
    }
   ],
   "source": [
    "dirty_data.head(10)"
   ]
  },
  {
   "cell_type": "markdown",
   "id": "300eaee8",
   "metadata": {},
   "source": [
    "We can see that the ID all start with ORD and with different letter then number. we can check if there is relationship between letter after ORD with the branch_code"
   ]
  },
  {
   "cell_type": "code",
   "execution_count": 18,
   "id": "a1a449c8",
   "metadata": {},
   "outputs": [
    {
     "data": {
      "text/plain": [
       "Counter({'A': 61, 'K': 55, 'X': 49, 'Z': 1})"
      ]
     },
     "execution_count": 18,
     "metadata": {},
     "output_type": "execute_result"
    }
   ],
   "source": [
    "# create set to store 4th letter of each order id corresponding to its branch\n",
    "order_id = {}\n",
    "order_id[\"TP\"] = []\n",
    "order_id[\"NS\"] = []\n",
    "order_id[\"BK\"] = []\n",
    "for i in range(len(dirty_data)):\n",
    "  # get the branch_code to add to the set above\n",
    "  branch_code = dirty_data.at[i, \"branch_code\"]\n",
    "  # get the 4th letter of the order_id\n",
    "  letter = dirty_data.at[i, \"order_id\"][3]\n",
    "  # add to the set with corresponding branch\n",
    "  order_id[branch_code].append(letter)\n",
    "\n",
    "Counter(order_id[\"TP\"])\n",
    "\n",
    "Counter(order_id[\"NS\"])\n",
    "\n",
    "Counter(order_id[\"BK\"])"
   ]
  },
  {
   "cell_type": "markdown",
   "id": "7032a8a8",
   "metadata": {},
   "source": [
    "From above observations, we can see that there are some order id with 4th letter in each branch code that looks suspicious. From the above observations, there is a relationship between order id and the branch. There are some noise that we can fix. Below will be the correct 4th letter for each branch by looking at the number of order id (4th letter in order id with only 1 are more likely to be incorrect):\n",
    "\n",
    "* TP: J, B, Y\n",
    "* NS: C, I, Z\n",
    "* BK: K, X, A"
   ]
  },
  {
   "cell_type": "markdown",
   "id": "d518059e",
   "metadata": {},
   "source": [
    "We can check more accurate from the outlier data as outlier data only contain outliers anomoly."
   ]
  },
  {
   "cell_type": "code",
   "execution_count": 19,
   "id": "ae274a5a",
   "metadata": {},
   "outputs": [
    {
     "data": {
      "text/plain": [
       "Counter({'K': 62, 'A': 56, 'X': 51})"
      ]
     },
     "execution_count": 19,
     "metadata": {},
     "output_type": "execute_result"
    }
   ],
   "source": [
    "# resetting the set\n",
    "order_id[\"TP\"] = []\n",
    "order_id[\"NS\"] = []\n",
    "order_id[\"BK\"] = []\n",
    "for i in range(len(outlier_data)):\n",
    "  # get the branch_code to add to the set above (outlier_data)\n",
    "  branch_code = outlier_data.at[i, \"branch_code\"]\n",
    "  # get the 4th letter of the order_id\n",
    "  letter = outlier_data.at[i, \"order_id\"][3]\n",
    "  # add to the set with corresponding branch\n",
    "  order_id[branch_code].append(letter)\n",
    "\n",
    "Counter(order_id[\"TP\"])\n",
    "\n",
    "Counter(order_id[\"NS\"])\n",
    "\n",
    "Counter(order_id[\"BK\"])"
   ]
  },
  {
   "cell_type": "markdown",
   "id": "56391f14",
   "metadata": {},
   "source": [
    "From above observation from outlier data, we can conclude that our observation before is correct. We can see that each branch has different unique 4th letter in their order id. Then we can fix them by replacing the branch code by checking their order_id\n",
    "\n",
    "First we initialize the correct 4th letter for each branch"
   ]
  },
  {
   "cell_type": "code",
   "execution_count": 20,
   "id": "8c4e9f91",
   "metadata": {},
   "outputs": [],
   "source": [
    "correct_id = {}\n",
    "correct_id[\"TP\"] = set(order_id[\"TP\"])\n",
    "correct_id[\"NS\"] = set(order_id[\"NS\"])\n",
    "correct_id[\"BK\"] = set(order_id[\"BK\"])"
   ]
  },
  {
   "cell_type": "markdown",
   "id": "699ed5e3",
   "metadata": {},
   "source": [
    "Then from the correct set above, we can check for each row of the dirty data and fix the error we saw above. From the specs, we know that the order_id column is error-free. So the branch_code column is wrong. Then we can go through each row then check the order_id. Then from order_id and correct_id set above, we can fix the branch_code"
   ]
  },
  {
   "cell_type": "code",
   "execution_count": 21,
   "id": "bcc387a8",
   "metadata": {},
   "outputs": [],
   "source": [
    "for i in range(len(dirty_data)):\n",
    "  order_id = dirty_data.at[i, \"order_id\"]\n",
    "  current_branch = dirty_data.at[i, \"branch_code\"]\n",
    "  # 4th letter\n",
    "  relationship = order_id[3]\n",
    "  correct_code = \"\"\n",
    "  # check to see the 4th letter in which branch_code form the correct_id set above\n",
    "  for code in correct_id:\n",
    "    # if it in the the set of correct id \n",
    "    if relationship in correct_id[code]:\n",
    "      # then the current code is the correct code coresponding to the ORDER_ID\n",
    "      correct_code = code\n",
    "      break\n",
    "  # if it is not the correct code then fix it\n",
    "  if current_branch != correct_code:\n",
    "    dirty_data.at[i, \"branch_code\"] = correct_code"
   ]
  },
  {
   "cell_type": "markdown",
   "id": "3ac40ff7",
   "metadata": {},
   "source": [
    "We can check again if it work correctly."
   ]
  },
  {
   "cell_type": "code",
   "execution_count": 22,
   "id": "4a3ad34e",
   "metadata": {},
   "outputs": [
    {
     "data": {
      "text/plain": [
       "Counter({'A': 62, 'K': 55, 'X': 49})"
      ]
     },
     "execution_count": 22,
     "metadata": {},
     "output_type": "execute_result"
    }
   ],
   "source": [
    "order_id = {}\n",
    "order_id[\"TP\"] = []\n",
    "order_id[\"NS\"] = []\n",
    "order_id[\"BK\"] = []\n",
    "for i in range(len(dirty_data)):\n",
    "  branch_code = dirty_data.at[i, \"branch_code\"]\n",
    "  letter = dirty_data.at[i, \"order_id\"][3]\n",
    "  order_id[branch_code].append(letter)\n",
    "\n",
    "Counter(order_id[\"TP\"])\n",
    "\n",
    "Counter(order_id[\"NS\"])\n",
    "\n",
    "Counter(order_id[\"BK\"])"
   ]
  },
  {
   "cell_type": "markdown",
   "id": "d8aad6e6",
   "metadata": {},
   "source": [
    "From above check again, the error of branch_code is fixed.\n",
    "\n",
    "<div class=\"alert alert-block alert-warning\">\n",
    "\n",
    "### 4.4. Order Item <a class=\"anchor\" name=\"Item\"></a>\n",
    "    \n",
    "</div>\n",
    "\n",
    "<div class=\"alert alert-block alert-warning\">\n",
    "\n",
    "#### 4.4.1 Getting correct menu <a class=\"anchor\" name=\"Menu\"></a>\n",
    "    \n",
    "</div>\n",
    "\n",
    "From the specs, we know that only the order id quantity is correct. So we have to check the items. Then we have to get the correct menu first. For the correct menu, we can get from the outlier_data."
   ]
  },
  {
   "cell_type": "code",
   "execution_count": 23,
   "id": "0e41e6f2",
   "metadata": {},
   "outputs": [
    {
     "name": "stdout",
     "output_type": "stream",
     "text": [
      "Breakfast: \n",
      " Counter({'Cereal': 135, 'Eggs': 134, 'Pancake': 128, 'Coffee': 124})\n",
      "Lunch: \n",
      " Counter({'Fries': 121, 'Steak': 113, 'Burger': 111, 'Salad': 104, 'Chicken': 102})\n",
      "Dinner: \n",
      " Counter({'Shrimp': 135, 'Fish&Chips': 129, 'Pasta': 125, 'Salmon': 125})\n"
     ]
    }
   ],
   "source": [
    "def count_item(data):\n",
    "  # separate to different order_type dataframe\n",
    "  breakfast = data[data.order_type == \"Breakfast\"]\n",
    "  lunch = data[data.order_type == \"Lunch\"]\n",
    "  dinner = data[data.order_type == \"Dinner\"]\n",
    "\n",
    "  all_b = \"\"\n",
    "  all_l = \"\"\n",
    "  all_d = \"\"\n",
    "  # adding to string for applying regular expression\n",
    "  for c in breakfast.order_items:\n",
    "    all_b += c\n",
    "\n",
    "  for c in lunch.order_items:\n",
    "    all_l += c\n",
    "\n",
    "  for c in dinner.order_items:\n",
    "    all_d += c\n",
    "\n",
    "  # get all the items which are follow pattern '(item)',\n",
    "  all_b_list = re.findall(r\"'(.+?)',\", all_b)\n",
    "  # breakfast\n",
    "  b_occurence = Counter(all_b_list)\n",
    "\n",
    "  all_l_list = re.findall(r\"'(.+?)',\", all_l)\n",
    "  # lunch\n",
    "  l_occurence = Counter(all_l_list)\n",
    "\n",
    "  all_d_list = re.findall(r\"'(.+?)',\", all_d)\n",
    "  # dinner\n",
    "  d_occurence = Counter(all_d_list)\n",
    "  return(b_occurence, l_occurence, d_occurence)\n",
    "\n",
    "occurence = count_item(outlier_data)\n",
    "print(\"Breakfast: \\n\", occurence[0])\n",
    "print(\"Lunch: \\n\", occurence[1])\n",
    "print(\"Dinner: \\n\", occurence[2])"
   ]
  },
  {
   "cell_type": "markdown",
   "id": "ba285d33",
   "metadata": {},
   "source": [
    "From above, we know that the correct menu for each order_type is:\n",
    "* Breakfast: Cereal, Eggs, Pancake, Coffee\n",
    "* Lunch: Fries, Steak, Burger, Salad, Chicken\n",
    "* Dinner: Shrimp, , Fish&Chips, Pasta, Salmon\n",
    "\n",
    "Then we have to check if there is any item in wrong order_type. We know that one row has only one error so we can check with order_type even if we fixed the order_type incorrectly.\n",
    "\n",
    "<div class=\"alert alert-block alert-warning\">\n",
    "\n",
    "#### 4.4.2 Checking order_items of dirty_data <a class=\"anchor\" name=\"item_dirty\"></a>\n",
    "    \n",
    "</div>"
   ]
  },
  {
   "cell_type": "code",
   "execution_count": 24,
   "id": "8eb7919d",
   "metadata": {},
   "outputs": [
    {
     "name": "stdout",
     "output_type": "stream",
     "text": [
      "Breakfast: \n",
      " Counter({'Cereal': 118, 'Pancake': 113, 'Eggs': 111, 'Coffee': 105, 'Pasta': 1, 'Chicken': 1, 'Steak': 1, 'Salmon': 1})\n",
      "Lunch: \n",
      " Counter({'Chicken': 128, 'Steak': 125, 'Salad': 125, 'Burger': 121, 'Fries': 109, 'Pancake': 1, 'Salmon': 1})\n",
      "Dinner: \n",
      " Counter({'Salmon': 129, 'Pasta': 125, 'Shrimp': 120, 'Fish&Chips': 117, 'Eggs': 1})\n"
     ]
    }
   ],
   "source": [
    "dirty_occurence = count_item(dirty_data)\n",
    "print(\"Breakfast: \\n\", dirty_occurence[0])\n",
    "print(\"Lunch: \\n\", dirty_occurence[1])\n",
    "print(\"Dinner: \\n\", dirty_occurence[2])"
   ]
  },
  {
   "cell_type": "markdown",
   "id": "a40f1f46",
   "metadata": {},
   "source": [
    "We can see that there are some incorrect items in the dirty data for all three meal type. We know that for those order with incorrect items. It only has that error because there is only error for each row. Thus, we know that its order price is correct for those row with incorrect items. So we can find the correct item from that order price. **But first we need to find the price for each items.**\n",
    "\n",
    "<div class=\"alert alert-block alert-warning\">\n",
    "\n",
    "#### 4.4.3 Getting final menu with price <a class=\"anchor\" name=\"Final_Menu\"></a>\n",
    "    \n",
    "</div>\n",
    "\n",
    "We can solve this by using linear system of equation. For example:\n",
    "\n",
    "Cereal_Quantity * Cereal_Price + Eggs_Quantity * Egg_Price = Order_Price\n",
    "\n",
    "We already know the quantity and the order_price. From that, we can calculate the price of each items by linear system of equation."
   ]
  },
  {
   "cell_type": "code",
   "execution_count": 25,
   "id": "c48896ea",
   "metadata": {},
   "outputs": [],
   "source": [
    "# getting the valid items for each order_type\n",
    "valid = {}\n",
    "valid[\"Breakfast\"] = list(set(occurence[0]))\n",
    "valid[\"Lunch\"] = list(set(occurence[1]))\n",
    "valid[\"Dinner\"] = list(set(occurence[2]))\n",
    "\n",
    "# a for solving linear system of equation\n",
    "a_all = {}\n",
    "a_all[\"Breakfast\"] = []\n",
    "a_all[\"Lunch\"] = []\n",
    "a_all[\"Dinner\"] = []\n",
    "\n",
    "# storing order_price for solving linear system of equation\n",
    "b_all = {}\n",
    "b_all[\"Breakfast\"] = []\n",
    "b_all[\"Lunch\"] = []\n",
    "b_all[\"Dinner\"] = []\n",
    "\n",
    "for i in range(len(dirty_data)):\n",
    "  order = dirty_data.at[i, \"order_items\"]\n",
    "  order_type = dirty_data.at[i, \"order_type\"]\n",
    "  order_price = dirty_data.at[i, \"order_price\"]\n",
    "  # the name to find correct position in the menu \n",
    "  order_name = re.findall(r\"'(.+?)',\", order)\n",
    "  # order_quantity \n",
    "  order_quan = re.findall(r\"(\\d+)\\)\", order)\n",
    "  \n",
    "  # meal menu containing meal at certain order_type\n",
    "  meal_menu = valid[order_type]\n",
    "  # To store coefficient of the current row\n",
    "  a = len(meal_menu) * [0]\n",
    "  # going through ordered meals of current order_id\n",
    "  for j in range(len(order_name)):\n",
    "    # if the items in the correct menu\n",
    "    if order_name[j] in meal_menu:\n",
    "      # getting index of the order on meal_menu (Have to )\n",
    "      index = meal_menu.index(order_name[j])\n",
    "      # giving coefficient\n",
    "      a[index] = int(order_quan[j])\n",
    "  \n",
    "  # store all a with its corresponding b \n",
    "  a_all[order_type].append(a)\n",
    "  b_all[order_type].append(order_price)"
   ]
  },
  {
   "cell_type": "markdown",
   "id": "22f5ba89",
   "metadata": {},
   "source": [
    "After we got all a and its corresponding b. Then we have to solve linear system equation. However, there are some wrong data in order_price and order_items. Thus, we have to choose the best x for each order_type. We can find best x by counting with np.isclose between np.dot(a,x) with b. The best x will have the most correct."
   ]
  },
  {
   "cell_type": "code",
   "execution_count": 26,
   "id": "23899940",
   "metadata": {},
   "outputs": [
    {
     "data": {
      "text/plain": [
       "{'Breakfast': array([ 5.5 , 20.  , 22.25, 21.  ]),\n",
       " 'Lunch': array([31. , 17.2, 32. , 12. , 45. ]),\n",
       " 'Dinner': array([54. , 27.5, 41. , 35. ])}"
      ]
     },
     "execution_count": 26,
     "metadata": {},
     "output_type": "execute_result"
    }
   ],
   "source": [
    "best_x = {}\n",
    "# x is the e price for each items with the corresponding order in the valid set \n",
    "best_x[\"Breakfast\"] = []\n",
    "best_x[\"Lunch\"] = []\n",
    "best_x[\"Dinner\"] = []\n",
    "for order_type in a_all:\n",
    "  # get a of the order_type (e.g. Breakfast)\n",
    "  a = np.array(a_all[order_type])\n",
    "  # get b of the order_type\n",
    "  b = np.array(b_all[order_type])\n",
    "  # if there are 4 items in the current order_type then we also can only take 4\n",
    "  # rows. So we have to get size from a.shape[1]\n",
    "  size = a.shape[1]\n",
    "  i = 0\n",
    "  max_count = 0\n",
    "  # loop until i + size > len(a)\n",
    "  while (i+size) <= len(a):\n",
    "    # we looping through each row then take rows from that i to i+size\n",
    "    try:\n",
    "      # calculat x with a and b \n",
    "      x = np.linalg.solve(a[i:(i+size)], b[i:(i+size)])\n",
    "      \n",
    "      # then we calculate number of close between dot product between a and \n",
    "      # current x with b. \n",
    "      count_true = sum(np.isclose(np.dot(a,x), b))\n",
    "\n",
    "      # if the count number of close is larger than current max_count then\n",
    "      # it mean current x is better than old x\n",
    "      if count_true > max_count:\n",
    "        # replace best x \n",
    "        best_x[order_type] = x\n",
    "        # update the max count\n",
    "        max_count = count_true\n",
    "\n",
    "    # if it raise this error with Singular matrix error then it is due to the\n",
    "    # row that has error in the dirty_data. For these error, we skip to the \n",
    "    # next row. I get this from stackoverflow [1] in the Reference part.\n",
    "    except np.linalg.LinAlgError as err:\n",
    "      if \"Singular matrix\" in str(err):\n",
    "        pass\n",
    "        # if it is other error then raise to check\n",
    "      else:\n",
    "        raise\n",
    "    i += 1\n",
    "\n",
    "best_x"
   ]
  },
  {
   "cell_type": "markdown",
   "id": "39d2a785",
   "metadata": {},
   "source": [
    "Above is the price with the corresponding items in the valid sets. We can combine valid and best_x for the final menu set."
   ]
  },
  {
   "cell_type": "code",
   "execution_count": 27,
   "id": "0e12642a",
   "metadata": {},
   "outputs": [
    {
     "data": {
      "text/plain": [
       "{'Breakfast': {'Coffee': 5.5, 'Cereal': 20.0, 'Pancake': 22.25, 'Eggs': 21.0},\n",
       " 'Lunch': {'Burger': 31.0,\n",
       "  'Salad': 17.2,\n",
       "  'Chicken': 32.0,\n",
       "  'Fries': 12.0,\n",
       "  'Steak': 45.0},\n",
       " 'Dinner': {'Shrimp': 54.0, 'Pasta': 27.5, 'Salmon': 41.0, 'Fish&Chips': 35.0}}"
      ]
     },
     "execution_count": 27,
     "metadata": {},
     "output_type": "execute_result"
    }
   ],
   "source": [
    "final_menu = {}\n",
    "for order_type in valid:\n",
    "  items = valid[order_type]\n",
    "  price = best_x[order_type]\n",
    "  item_price = {}\n",
    "  # get the items and mix it with its prices\n",
    "  for i in range(len(items)):\n",
    "    item_name = items[i]\n",
    "    # round to 2 decimal place to follow the data format\n",
    "    item_price[item_name] = round(price[i], 2)\n",
    "  final_menu[order_type] = item_price\n",
    "\n",
    "final_menu"
   ]
  },
  {
   "cell_type": "markdown",
   "id": "e29aae13",
   "metadata": {},
   "source": [
    "Above is the final menu for each order type with its price. From above menu, we can get the correct order_items and order_price\n",
    "\n",
    "<div class=\"alert alert-block alert-warning\">\n",
    "\n",
    "#### 4.4.4 Fix Order Items <a class=\"anchor\" name=\"Order_Fix\"></a>\n",
    "    \n",
    "</div>\n",
    "\n",
    "First I create function to generate permutation of items that can be used to replace the items. For example, the incorrect row is \n",
    "\n",
    "\\[('Cereal', 1), ('Pancake', 1), ('Chicken', 2), ('Salad', 4)]\n",
    "\n",
    "If the order_type is Breakfast. Then Chicken and Salad are incorrect. Then we have to do permutation on the available items on the menus that are not Cereal, Pancake in this case. \n",
    "\n",
    "So the available items are Coffee and Eggs. However, there are two different quantity 2 and 4. Then we have to do permutation with available items with size 2. Then it is \\[Coffee, Eggs] and \\[Eggs, Coffee] to check all case to find correct order_item. If one of the cases has the price close to the order_price then that case is correct. As we know that one row has only one error so we know that the order_price is correct.\n",
    "\n",
    " The below function will help to do the permutation with available items that are not in the order_items yet. It will return the permutation of **index** of available items."
   ]
  },
  {
   "cell_type": "code",
   "execution_count": 28,
   "id": "1acdcadf",
   "metadata": {},
   "outputs": [],
   "source": [
    "def possible_solution(the_menu, the_items, size):\n",
    "  \"\"\"\n",
    "  the_menu: the menu with corresponding order_type\n",
    "  the_items: the current order_items of one order_id\n",
    "  size: number of items that is wrong\n",
    "  \"\"\"\n",
    "  output =  []\n",
    "  # go through menu\n",
    "  for i in range(len(the_menu)):\n",
    "    # only append if the items in the menu not already in provided the_items\n",
    "    if the_menu[i] not in the_items:\n",
    "      output.append(i)\n",
    "  \n",
    "  # permutations on the available items \n",
    "  output = list(permutations(output, size))\n",
    "  return output"
   ]
  },
  {
   "cell_type": "code",
   "execution_count": 29,
   "id": "700c971e",
   "metadata": {},
   "outputs": [],
   "source": [
    "\"\"\"The below function will return the fixed order_items value in string type.\"\"\"\n",
    "\n",
    "def get_correct_item(my_items, my_quantity, my_price, my_menu):\n",
    "  \"\"\"\n",
    "  my_items: current order_items of one order_id\n",
    "  my_quantity: current quantity of one order_id\n",
    "  my_price: current order_price of one order_id\n",
    "  my_menu: the corresponding menu of current order_type\n",
    "  \"\"\"\n",
    "  # my_menu currently have both the items and prices. I decide to separate them\n",
    "  menu_items = list(my_menu)\n",
    "  menu_prices = list(my_menu.values())\n",
    "  # initialize a list for coefficient\n",
    "  my_a = [0]*len(menu_items)\n",
    "  # to store possible items (result of the permutation from above function)\n",
    "  possible_item = []\n",
    "  # the quantity of the items that got wrong before in current order_id\n",
    "  possible_quan = []\n",
    "  # count number of error for size of the permutation\n",
    "  count_error = 0\n",
    "\n",
    "  for i in range(len(my_items)):\n",
    "    # if it in the menu then it is correct\n",
    "    if my_items[i] in menu_items:\n",
    "      # get the position of current items in the menu for putting in a\n",
    "      pos = menu_items.index(my_items[i])\n",
    "      # then put the coefficient into my_a[pos]\n",
    "      my_a[pos] = int(my_quantity[i])\n",
    "    else:\n",
    "      # if it is not in the menu then it is wrong\n",
    "      count_error += 1\n",
    "      # put in the quantity of the wrong items\n",
    "      possible_quan.append(int(my_quantity[i]))\n",
    "    \n",
    "  # getting permutation fo available items that not in the current order_items yet\n",
    "  # the result is the index of the available items\n",
    "  possible_item = possible_solution(menu_items, my_items, count_error)\n",
    "\n",
    "  final_solution = []\n",
    "  for solution in possible_item:\n",
    "    # deep copy my_a for checking all case\n",
    "    current_a = copy.deepcopy(my_a)\n",
    "    # going through all possible solution\n",
    "    for i in range(len(solution)):\n",
    "        # put coefficient in the index of possible solutions\n",
    "        current_a[solution[i]] = possible_quan[i]\n",
    "    a_np = np.array(current_a)\n",
    "    # check if the solution is close \n",
    "    # then break if it is close and it will be the final solution\n",
    "    if np.isclose(np.dot(a_np, menu_prices), my_price) == True:\n",
    "      final_solution = list(solution)\n",
    "      break\n",
    "  \n",
    "  # change to string with same format\n",
    "  final_string = \"[\"\n",
    "  for i in range(len(my_items)):\n",
    "    # if the item is in the menu then take straight from my_items\n",
    "    if my_items[i] in menu_items:\n",
    "      if final_string != \"[\":\n",
    "        elem = \", ('\" + my_items[i] + \"', \" + my_quantity[i] + \")\"\n",
    "      else:\n",
    "        elem = \"('\" + my_items[i] + \"', \" + my_quantity[i] + \")\"\n",
    "    # if not then take from final_solution\n",
    "    else:\n",
    "      position = final_solution.pop(0)\n",
    "      correct_item = menu_items[position]\n",
    "      if final_string != \"[\":\n",
    "        elem = \", ('\" + correct_item + \"', \" + my_quantity[i] + \")\"\n",
    "      else:\n",
    "        elem = \"('\" + correct_item + \"', \" + my_quantity[i] + \")\"\n",
    "    final_string += elem\n",
    "  final_string += \"]\"\n",
    "  return final_string"
   ]
  },
  {
   "cell_type": "code",
   "execution_count": 30,
   "id": "2e79c7ba",
   "metadata": {},
   "outputs": [
    {
     "name": "stdout",
     "output_type": "stream",
     "text": [
      "Wrong at index: 47\n",
      "Order type: Breakfast\n",
      "Old order: [('Cereal', 4), ('Coffee', 4), ('Pasta', 10)]\n",
      "Fixed order: [('Cereal', 4), ('Coffee', 4), ('Pancake', 10)]\n",
      "________________________________________________________________\n",
      "Wrong at index: 74\n",
      "Order type: Breakfast\n",
      "Old order: [('Cereal', 7), ('Eggs', 4), ('Chicken', 10), ('Coffee', 5)]\n",
      "Fixed order: [('Cereal', 7), ('Eggs', 4), ('Pancake', 10), ('Coffee', 5)]\n",
      "________________________________________________________________\n",
      "Wrong at index: 237\n",
      "Order type: Dinner\n",
      "Old order: [('Fish&Chips', 5), ('Shrimp', 4), ('Eggs', 10)]\n",
      "Fixed order: [('Fish&Chips', 5), ('Shrimp', 4), ('Pasta', 10)]\n",
      "________________________________________________________________\n",
      "Wrong at index: 240\n",
      "Order type: Lunch\n",
      "Old order: [('Fries', 1), ('Steak', 3), ('Pancake', 7)]\n",
      "Fixed order: [('Fries', 1), ('Steak', 3), ('Burger', 7)]\n",
      "________________________________________________________________\n",
      "Wrong at index: 376\n",
      "Order type: Breakfast\n",
      "Old order: [('Steak', 10), ('Eggs', 9)]\n",
      "Fixed order: [('Coffee', 10), ('Eggs', 9)]\n",
      "________________________________________________________________\n",
      "Wrong at index: 470\n",
      "Order type: Breakfast\n",
      "Old order: [('Salmon', 7), ('Eggs', 5), ('Pancake', 3)]\n",
      "Fixed order: [('Coffee', 7), ('Eggs', 5), ('Pancake', 3)]\n",
      "________________________________________________________________\n",
      "Wrong at index: 492\n",
      "Order type: Lunch\n",
      "Old order: [('Burger', 7), ('Salmon', 1)]\n",
      "Fixed order: [('Burger', 7), ('Chicken', 1)]\n",
      "________________________________________________________________\n",
      "Breakfast: \n",
      " Counter({'Cereal': 118, 'Pancake': 115, 'Eggs': 111, 'Coffee': 107})\n",
      "Lunch: \n",
      " Counter({'Chicken': 129, 'Steak': 125, 'Salad': 125, 'Burger': 122, 'Fries': 109})\n",
      "Dinner: \n",
      " Counter({'Salmon': 129, 'Pasta': 126, 'Shrimp': 120, 'Fish&Chips': 117})\n"
     ]
    }
   ],
   "source": [
    "\"\"\"Then we go through each row to check with above function\"\"\"\n",
    "\n",
    "for i in range(len(dirty_data)):\n",
    "  order = dirty_data.at[i, \"order_items\"]\n",
    "  order_type = dirty_data.at[i, \"order_type\"]\n",
    "  order_price = dirty_data.at[i, \"order_price\"]\n",
    "  # getting items' name in pattern '(item)',\n",
    "  order_name = re.findall(r\"'(.+?)',\", order)\n",
    "  # getting items' quantity which are the digit only\n",
    "  order_quan = re.findall(r\"(\\d+)\\)\", order)\n",
    "\n",
    "  # get correct values\n",
    "  correct_order = get_correct_item(order_name, order_quan, order_price, final_menu[order_type])\n",
    "  \n",
    "  # check position of wrong items if it exists\n",
    "  if correct_order != dirty_data.at[i, \"order_items\"]:\n",
    "    print(\"Wrong at index: \" + str(i))\n",
    "    print(\"Order type:\", order_type)\n",
    "    print(\"Old order:\", dirty_data.at[i, \"order_items\"])\n",
    "    print(\"Fixed order:\", correct_order)\n",
    "    print('________________________________________________________________')\n",
    "    dirty_data.at[i, \"order_items\"] = correct_order\n",
    "\n",
    "\"\"\"As seen above, the items fixed correctly with correct locations. We can check again if all the order items in the correct order_type.\"\"\"\n",
    "\n",
    "dirty_occurence = count_item(dirty_data)\n",
    "print(\"Breakfast: \\n\", dirty_occurence[0])\n",
    "print(\"Lunch: \\n\", dirty_occurence[1])\n",
    "print(\"Dinner: \\n\", dirty_occurence[2])"
   ]
  },
  {
   "cell_type": "markdown",
   "id": "ea2bab26",
   "metadata": {},
   "source": [
    "From above, The items are all in correct order_type.\n",
    "\n",
    "<div class=\"alert alert-block alert-warning\">\n",
    "\n",
    "### 4.5. Order Price <a class=\"anchor\" name=\"Order_Price\"></a>\n",
    "    \n",
    "</div>\n",
    "\n",
    "As we has the final menu and correct order_items. We can now find the correct order_price by dot product. We will replace the order_price if it is not close to the result. The dot product is as below for example \\[('Cereal', 4), ('Coffee', 4), ('Pancake', 10)]. From the menu, we can get price of cereal as 20, Coffee as 5.5 and Pancake as 10. Then we have:\n",
    "\n",
    "Correct Order Price = 4 x 20 + 4 x 5.5 + 10 x 22.25\n",
    "\n",
    "Then we can check if the correct order price close to the order_price value."
   ]
  },
  {
   "cell_type": "code",
   "execution_count": 31,
   "id": "ff52c9db",
   "metadata": {},
   "outputs": [
    {
     "name": "stdout",
     "output_type": "stream",
     "text": [
      "Wrong at index: 35\n",
      "Old price: 363.0\n",
      "Fixed price: 407.25\n",
      "____________________\n",
      "Wrong at index: 36\n",
      "Old price: 1064.8\n",
      "Fixed price: 182.0\n",
      "____________________\n",
      "Wrong at index: 244\n",
      "Old price: 468.0\n",
      "Fixed price: 276.25\n",
      "____________________\n",
      "Wrong at index: 310\n",
      "Old price: 253.5\n",
      "Fixed price: 407.2\n",
      "____________________\n",
      "Wrong at index: 350\n",
      "Old price: 567.0\n",
      "Fixed price: 433.8\n",
      "____________________\n",
      "Wrong at index: 395\n",
      "Old price: 807.0\n",
      "Fixed price: 311.0\n",
      "____________________\n",
      "Wrong at index: 403\n",
      "Old price: 585.0\n",
      "Fixed price: 305.25\n",
      "____________________\n"
     ]
    }
   ],
   "source": [
    "for i in range(len(dirty_data)):\n",
    "  order_type = dirty_data.at[i, \"order_type\"]\n",
    "  order_price = dirty_data.at[i, \"order_price\"]\n",
    "  order_items = dirty_data.at[i, \"order_items\"]\n",
    "  # getting items' name in pattern '(item)',\n",
    "  items = re.findall(r\"'(.+?)',\", order_items)\n",
    "  # getting items' quantity which are the digit only\n",
    "  quantity = re.findall(r\"(\\d+)\\)\", order_items)\n",
    "  # get menu from the current order_type\n",
    "  meal_menu = valid[order_type]\n",
    "  # initialize a \n",
    "  a = len(meal_menu) * [0]\n",
    "  x = best_x[order_type]\n",
    "\n",
    "  for j in range(len(items)):\n",
    "    # get the position of the item in meal menu\n",
    "    index = meal_menu.index(items[j])\n",
    "    # put the coefficient in that position\n",
    "    a[index] = int(quantity[j])\n",
    "\n",
    "  # check if the dot product is close to the order_price\n",
    "  if np.isclose(np.dot(a, x), order_price) == False:\n",
    "    print(\"Wrong at index: \" + str(i))\n",
    "    print(\"Old price:\",order_price)\n",
    "    print(\"Fixed price:\", round(np.dot(a,x), 2))\n",
    "    print('____________________')\n",
    "    dirty_data.at[i, \"order_price\"] = round(np.dot(a,x), 2)"
   ]
  },
  {
   "cell_type": "markdown",
   "id": "f8021dc5",
   "metadata": {},
   "source": [
    "At above locations, we fix the order_price.\n",
    "\n",
    "<div class=\"alert alert-block alert-warning\">\n",
    "\n",
    "### 4.6. Customer Lat and Customer Long <a class=\"anchor\" name=\"Location\"></a>\n",
    "    \n",
    "</div>\n",
    "\n",
    "We check the range of customer_lat and customer_lon. We can see below that the min of bot customer_lat and customer_lon is negative values. The maximum of both are positive values."
   ]
  },
  {
   "cell_type": "code",
   "execution_count": 32,
   "id": "54e4347e",
   "metadata": {},
   "outputs": [
    {
     "data": {
      "text/html": [
       "<div>\n",
       "<style scoped>\n",
       "    .dataframe tbody tr th:only-of-type {\n",
       "        vertical-align: middle;\n",
       "    }\n",
       "\n",
       "    .dataframe tbody tr th {\n",
       "        vertical-align: top;\n",
       "    }\n",
       "\n",
       "    .dataframe thead th {\n",
       "        text-align: right;\n",
       "    }\n",
       "</style>\n",
       "<table border=\"1\" class=\"dataframe\">\n",
       "  <thead>\n",
       "    <tr style=\"text-align: right;\">\n",
       "      <th></th>\n",
       "      <th>order_price</th>\n",
       "      <th>customer_lat</th>\n",
       "      <th>customer_lon</th>\n",
       "      <th>customerHasloyalty?</th>\n",
       "      <th>distance_to_customer_KM</th>\n",
       "      <th>delivery_fee</th>\n",
       "    </tr>\n",
       "  </thead>\n",
       "  <tbody>\n",
       "    <tr>\n",
       "      <th>count</th>\n",
       "      <td>500.000000</td>\n",
       "      <td>500.000000</td>\n",
       "      <td>500.000000</td>\n",
       "      <td>500.000000</td>\n",
       "      <td>500.000000</td>\n",
       "      <td>500.000000</td>\n",
       "    </tr>\n",
       "    <tr>\n",
       "      <th>mean</th>\n",
       "      <td>475.481200</td>\n",
       "      <td>-35.379837</td>\n",
       "      <td>143.138876</td>\n",
       "      <td>0.072000</td>\n",
       "      <td>8.756648</td>\n",
       "      <td>13.822887</td>\n",
       "    </tr>\n",
       "    <tr>\n",
       "      <th>std</th>\n",
       "      <td>251.957758</td>\n",
       "      <td>19.358275</td>\n",
       "      <td>18.204542</td>\n",
       "      <td>0.258747</td>\n",
       "      <td>1.679507</td>\n",
       "      <td>2.598111</td>\n",
       "    </tr>\n",
       "    <tr>\n",
       "      <th>min</th>\n",
       "      <td>42.250000</td>\n",
       "      <td>-37.834290</td>\n",
       "      <td>-37.818945</td>\n",
       "      <td>0.000000</td>\n",
       "      <td>3.234000</td>\n",
       "      <td>5.050452</td>\n",
       "    </tr>\n",
       "    <tr>\n",
       "      <th>25%</th>\n",
       "      <td>287.187500</td>\n",
       "      <td>-37.819105</td>\n",
       "      <td>144.949794</td>\n",
       "      <td>0.000000</td>\n",
       "      <td>7.713500</td>\n",
       "      <td>12.692750</td>\n",
       "    </tr>\n",
       "    <tr>\n",
       "      <th>50%</th>\n",
       "      <td>432.750000</td>\n",
       "      <td>-37.813134</td>\n",
       "      <td>144.963997</td>\n",
       "      <td>0.000000</td>\n",
       "      <td>8.870000</td>\n",
       "      <td>14.037692</td>\n",
       "    </tr>\n",
       "    <tr>\n",
       "      <th>75%</th>\n",
       "      <td>626.500000</td>\n",
       "      <td>-37.806321</td>\n",
       "      <td>144.982430</td>\n",
       "      <td>0.000000</td>\n",
       "      <td>9.812000</td>\n",
       "      <td>15.316775</td>\n",
       "    </tr>\n",
       "    <tr>\n",
       "      <th>max</th>\n",
       "      <td>1423.000000</td>\n",
       "      <td>145.012522</td>\n",
       "      <td>145.017855</td>\n",
       "      <td>1.000000</td>\n",
       "      <td>13.054000</td>\n",
       "      <td>22.184617</td>\n",
       "    </tr>\n",
       "  </tbody>\n",
       "</table>\n",
       "</div>"
      ],
      "text/plain": [
       "       order_price  customer_lat  customer_lon  customerHasloyalty?  \\\n",
       "count   500.000000    500.000000    500.000000           500.000000   \n",
       "mean    475.481200    -35.379837    143.138876             0.072000   \n",
       "std     251.957758     19.358275     18.204542             0.258747   \n",
       "min      42.250000    -37.834290    -37.818945             0.000000   \n",
       "25%     287.187500    -37.819105    144.949794             0.000000   \n",
       "50%     432.750000    -37.813134    144.963997             0.000000   \n",
       "75%     626.500000    -37.806321    144.982430             0.000000   \n",
       "max    1423.000000    145.012522    145.017855             1.000000   \n",
       "\n",
       "       distance_to_customer_KM  delivery_fee  \n",
       "count               500.000000    500.000000  \n",
       "mean                  8.756648     13.822887  \n",
       "std                   1.679507      2.598111  \n",
       "min                   3.234000      5.050452  \n",
       "25%                   7.713500     12.692750  \n",
       "50%                   8.870000     14.037692  \n",
       "75%                   9.812000     15.316775  \n",
       "max                  13.054000     22.184617  "
      ]
     },
     "execution_count": 32,
     "metadata": {},
     "output_type": "execute_result"
    }
   ],
   "source": [
    "dirty_data.describe()"
   ]
  },
  {
   "cell_type": "markdown",
   "id": "964bf8f4",
   "metadata": {},
   "source": [
    "However, to get the distance to customer, the customer_lat and customer_lon must be in the node files as we generate the graphs from that. Then to check if the customer_lat and customer_lon is correct then we check in the nodes dataset."
   ]
  },
  {
   "cell_type": "code",
   "execution_count": 33,
   "id": "5c002ea7",
   "metadata": {},
   "outputs": [
    {
     "data": {
      "text/html": [
       "<div>\n",
       "<style scoped>\n",
       "    .dataframe tbody tr th:only-of-type {\n",
       "        vertical-align: middle;\n",
       "    }\n",
       "\n",
       "    .dataframe tbody tr th {\n",
       "        vertical-align: top;\n",
       "    }\n",
       "\n",
       "    .dataframe thead th {\n",
       "        text-align: right;\n",
       "    }\n",
       "</style>\n",
       "<table border=\"1\" class=\"dataframe\">\n",
       "  <thead>\n",
       "    <tr style=\"text-align: right;\">\n",
       "      <th></th>\n",
       "      <th>node</th>\n",
       "      <th>lat</th>\n",
       "      <th>lon</th>\n",
       "    </tr>\n",
       "  </thead>\n",
       "  <tbody>\n",
       "    <tr>\n",
       "      <th>count</th>\n",
       "      <td>1.711700e+04</td>\n",
       "      <td>17117.000000</td>\n",
       "      <td>17117.000000</td>\n",
       "    </tr>\n",
       "    <tr>\n",
       "      <th>mean</th>\n",
       "      <td>2.023147e+09</td>\n",
       "      <td>-37.812451</td>\n",
       "      <td>144.966743</td>\n",
       "    </tr>\n",
       "    <tr>\n",
       "      <th>std</th>\n",
       "      <td>1.978621e+09</td>\n",
       "      <td>0.008005</td>\n",
       "      <td>0.021438</td>\n",
       "    </tr>\n",
       "    <tr>\n",
       "      <th>min</th>\n",
       "      <td>2.157811e+07</td>\n",
       "      <td>-38.110916</td>\n",
       "      <td>144.654172</td>\n",
       "    </tr>\n",
       "    <tr>\n",
       "      <th>25%</th>\n",
       "      <td>4.888793e+08</td>\n",
       "      <td>-37.818767</td>\n",
       "      <td>144.951965</td>\n",
       "    </tr>\n",
       "    <tr>\n",
       "      <th>50%</th>\n",
       "      <td>8.465677e+08</td>\n",
       "      <td>-37.812767</td>\n",
       "      <td>144.964104</td>\n",
       "    </tr>\n",
       "    <tr>\n",
       "      <th>75%</th>\n",
       "      <td>3.215192e+09</td>\n",
       "      <td>-37.806185</td>\n",
       "      <td>144.981581</td>\n",
       "    </tr>\n",
       "    <tr>\n",
       "      <th>max</th>\n",
       "      <td>6.282174e+09</td>\n",
       "      <td>-37.739636</td>\n",
       "      <td>145.046450</td>\n",
       "    </tr>\n",
       "  </tbody>\n",
       "</table>\n",
       "</div>"
      ],
      "text/plain": [
       "               node           lat           lon\n",
       "count  1.711700e+04  17117.000000  17117.000000\n",
       "mean   2.023147e+09    -37.812451    144.966743\n",
       "std    1.978621e+09      0.008005      0.021438\n",
       "min    2.157811e+07    -38.110916    144.654172\n",
       "25%    4.888793e+08    -37.818767    144.951965\n",
       "50%    8.465677e+08    -37.812767    144.964104\n",
       "75%    3.215192e+09    -37.806185    144.981581\n",
       "max    6.282174e+09    -37.739636    145.046450"
      ]
     },
     "execution_count": 33,
     "metadata": {},
     "output_type": "execute_result"
    }
   ],
   "source": [
    "nodes.describe()"
   ]
  },
  {
   "cell_type": "markdown",
   "id": "36150f8a",
   "metadata": {},
   "source": [
    "We can see that in the nodes dataset that the min lat is negative value but min lon is positive value. On the other hand, the maximum value in lat is negative. Which mean the range of customer_lat and customer_lon in dirty data is wrong. We can check row that has wrong customer_lat and customer_lon as below."
   ]
  },
  {
   "cell_type": "code",
   "execution_count": 34,
   "id": "fe6ddf71",
   "metadata": {},
   "outputs": [
    {
     "data": {
      "text/html": [
       "<div>\n",
       "<style scoped>\n",
       "    .dataframe tbody tr th:only-of-type {\n",
       "        vertical-align: middle;\n",
       "    }\n",
       "\n",
       "    .dataframe tbody tr th {\n",
       "        vertical-align: top;\n",
       "    }\n",
       "\n",
       "    .dataframe thead th {\n",
       "        text-align: right;\n",
       "    }\n",
       "</style>\n",
       "<table border=\"1\" class=\"dataframe\">\n",
       "  <thead>\n",
       "    <tr style=\"text-align: right;\">\n",
       "      <th></th>\n",
       "      <th>order_id</th>\n",
       "      <th>date</th>\n",
       "      <th>time</th>\n",
       "      <th>order_type</th>\n",
       "      <th>branch_code</th>\n",
       "      <th>order_items</th>\n",
       "      <th>order_price</th>\n",
       "      <th>customer_lat</th>\n",
       "      <th>customer_lon</th>\n",
       "      <th>customerHasloyalty?</th>\n",
       "      <th>distance_to_customer_KM</th>\n",
       "      <th>delivery_fee</th>\n",
       "    </tr>\n",
       "  </thead>\n",
       "  <tbody>\n",
       "    <tr>\n",
       "      <th>34</th>\n",
       "      <td>ORDA01826</td>\n",
       "      <td>2021-04-18</td>\n",
       "      <td>11:32:57</td>\n",
       "      <td>Breakfast</td>\n",
       "      <td>BK</td>\n",
       "      <td>[('Pancake', 8), ('Coffee', 10), ('Eggs', 7), ...</td>\n",
       "      <td>440.00</td>\n",
       "      <td>37.819667</td>\n",
       "      <td>144.979626</td>\n",
       "      <td>0</td>\n",
       "      <td>7.202</td>\n",
       "      <td>14.620028</td>\n",
       "    </tr>\n",
       "    <tr>\n",
       "      <th>42</th>\n",
       "      <td>ORDY00328</td>\n",
       "      <td>2021-03-29</td>\n",
       "      <td>10:52:23</td>\n",
       "      <td>Breakfast</td>\n",
       "      <td>TP</td>\n",
       "      <td>[('Coffee', 8), ('Pancake', 9), ('Cereal', 8),...</td>\n",
       "      <td>446.25</td>\n",
       "      <td>145.005773</td>\n",
       "      <td>-37.812619</td>\n",
       "      <td>0</td>\n",
       "      <td>11.491</td>\n",
       "      <td>13.480959</td>\n",
       "    </tr>\n",
       "    <tr>\n",
       "      <th>72</th>\n",
       "      <td>ORDZ08143</td>\n",
       "      <td>2021-06-12</td>\n",
       "      <td>13:24:30</td>\n",
       "      <td>Lunch</td>\n",
       "      <td>NS</td>\n",
       "      <td>[('Salad', 2), ('Fries', 1), ('Steak', 4), ('C...</td>\n",
       "      <td>514.40</td>\n",
       "      <td>37.824230</td>\n",
       "      <td>144.984256</td>\n",
       "      <td>0</td>\n",
       "      <td>9.519</td>\n",
       "      <td>17.312180</td>\n",
       "    </tr>\n",
       "    <tr>\n",
       "      <th>185</th>\n",
       "      <td>ORDA02310</td>\n",
       "      <td>2021-10-23</td>\n",
       "      <td>17:48:10</td>\n",
       "      <td>Dinner</td>\n",
       "      <td>BK</td>\n",
       "      <td>[('Salmon', 5), ('Pasta', 4), ('Fish&amp;Chips', 4)]</td>\n",
       "      <td>455.00</td>\n",
       "      <td>145.012522</td>\n",
       "      <td>-37.812571</td>\n",
       "      <td>0</td>\n",
       "      <td>3.665</td>\n",
       "      <td>12.984344</td>\n",
       "    </tr>\n",
       "    <tr>\n",
       "      <th>196</th>\n",
       "      <td>ORDB09642</td>\n",
       "      <td>2021-12-03</td>\n",
       "      <td>19:09:17</td>\n",
       "      <td>Dinner</td>\n",
       "      <td>TP</td>\n",
       "      <td>[('Salmon', 5), ('Pasta', 9)]</td>\n",
       "      <td>452.50</td>\n",
       "      <td>145.004460</td>\n",
       "      <td>-37.805485</td>\n",
       "      <td>0</td>\n",
       "      <td>11.964</td>\n",
       "      <td>15.656461</td>\n",
       "    </tr>\n",
       "    <tr>\n",
       "      <th>291</th>\n",
       "      <td>ORDK01381</td>\n",
       "      <td>2021-02-15</td>\n",
       "      <td>09:31:16</td>\n",
       "      <td>Breakfast</td>\n",
       "      <td>BK</td>\n",
       "      <td>[('Coffee', 2), ('Pancake', 2)]</td>\n",
       "      <td>55.50</td>\n",
       "      <td>37.823318</td>\n",
       "      <td>145.009236</td>\n",
       "      <td>0</td>\n",
       "      <td>4.730</td>\n",
       "      <td>9.358317</td>\n",
       "    </tr>\n",
       "    <tr>\n",
       "      <th>332</th>\n",
       "      <td>ORDA10695</td>\n",
       "      <td>2021-05-14</td>\n",
       "      <td>12:23:39</td>\n",
       "      <td>Lunch</td>\n",
       "      <td>BK</td>\n",
       "      <td>[('Fries', 4), ('Salad', 5), ('Steak', 1), ('C...</td>\n",
       "      <td>403.00</td>\n",
       "      <td>144.957364</td>\n",
       "      <td>-37.813743</td>\n",
       "      <td>0</td>\n",
       "      <td>8.133</td>\n",
       "      <td>13.155919</td>\n",
       "    </tr>\n",
       "    <tr>\n",
       "      <th>441</th>\n",
       "      <td>ORDB03010</td>\n",
       "      <td>2021-06-28</td>\n",
       "      <td>13:54:55</td>\n",
       "      <td>Lunch</td>\n",
       "      <td>TP</td>\n",
       "      <td>[('Burger', 3), ('Salad', 7), ('Chicken', 3)]</td>\n",
       "      <td>309.40</td>\n",
       "      <td>144.946680</td>\n",
       "      <td>-37.818945</td>\n",
       "      <td>0</td>\n",
       "      <td>9.170</td>\n",
       "      <td>12.257562</td>\n",
       "    </tr>\n",
       "    <tr>\n",
       "      <th>456</th>\n",
       "      <td>ORDC10589</td>\n",
       "      <td>2021-06-06</td>\n",
       "      <td>13:04:13</td>\n",
       "      <td>Lunch</td>\n",
       "      <td>NS</td>\n",
       "      <td>[('Burger', 5), ('Steak', 9), ('Salad', 1)]</td>\n",
       "      <td>577.20</td>\n",
       "      <td>37.807219</td>\n",
       "      <td>144.957056</td>\n",
       "      <td>0</td>\n",
       "      <td>8.130</td>\n",
       "      <td>15.736768</td>\n",
       "    </tr>\n",
       "  </tbody>\n",
       "</table>\n",
       "</div>"
      ],
      "text/plain": [
       "      order_id        date      time order_type branch_code  \\\n",
       "34   ORDA01826  2021-04-18  11:32:57  Breakfast          BK   \n",
       "42   ORDY00328  2021-03-29  10:52:23  Breakfast          TP   \n",
       "72   ORDZ08143  2021-06-12  13:24:30      Lunch          NS   \n",
       "185  ORDA02310  2021-10-23  17:48:10     Dinner          BK   \n",
       "196  ORDB09642  2021-12-03  19:09:17     Dinner          TP   \n",
       "291  ORDK01381  2021-02-15  09:31:16  Breakfast          BK   \n",
       "332  ORDA10695  2021-05-14  12:23:39      Lunch          BK   \n",
       "441  ORDB03010  2021-06-28  13:54:55      Lunch          TP   \n",
       "456  ORDC10589  2021-06-06  13:04:13      Lunch          NS   \n",
       "\n",
       "                                           order_items  order_price  \\\n",
       "34   [('Pancake', 8), ('Coffee', 10), ('Eggs', 7), ...       440.00   \n",
       "42   [('Coffee', 8), ('Pancake', 9), ('Cereal', 8),...       446.25   \n",
       "72   [('Salad', 2), ('Fries', 1), ('Steak', 4), ('C...       514.40   \n",
       "185   [('Salmon', 5), ('Pasta', 4), ('Fish&Chips', 4)]       455.00   \n",
       "196                      [('Salmon', 5), ('Pasta', 9)]       452.50   \n",
       "291                    [('Coffee', 2), ('Pancake', 2)]        55.50   \n",
       "332  [('Fries', 4), ('Salad', 5), ('Steak', 1), ('C...       403.00   \n",
       "441      [('Burger', 3), ('Salad', 7), ('Chicken', 3)]       309.40   \n",
       "456        [('Burger', 5), ('Steak', 9), ('Salad', 1)]       577.20   \n",
       "\n",
       "     customer_lat  customer_lon  customerHasloyalty?  distance_to_customer_KM  \\\n",
       "34      37.819667    144.979626                    0                    7.202   \n",
       "42     145.005773    -37.812619                    0                   11.491   \n",
       "72      37.824230    144.984256                    0                    9.519   \n",
       "185    145.012522    -37.812571                    0                    3.665   \n",
       "196    145.004460    -37.805485                    0                   11.964   \n",
       "291     37.823318    145.009236                    0                    4.730   \n",
       "332    144.957364    -37.813743                    0                    8.133   \n",
       "441    144.946680    -37.818945                    0                    9.170   \n",
       "456     37.807219    144.957056                    0                    8.130   \n",
       "\n",
       "     delivery_fee  \n",
       "34      14.620028  \n",
       "42      13.480959  \n",
       "72      17.312180  \n",
       "185     12.984344  \n",
       "196     15.656461  \n",
       "291      9.358317  \n",
       "332     13.155919  \n",
       "441     12.257562  \n",
       "456     15.736768  "
      ]
     },
     "execution_count": 34,
     "metadata": {},
     "output_type": "execute_result"
    }
   ],
   "source": [
    "dirty_data[(dirty_data.customer_lat > 0) | (dirty_data.customer_lon <= 0)]"
   ]
  },
  {
   "cell_type": "markdown",
   "id": "716286ea",
   "metadata": {},
   "source": [
    "As seen above, I have come to conclusion that there are following error type in customer_lat and customer_lon:\n",
    "* the customer_lat and customer_lon correct values are swapped around (e.g. row 42)\n",
    "* customer_on is correct but customer_lat has wrong sign\n",
    "\n",
    "We can fix by below codes"
   ]
  },
  {
   "cell_type": "code",
   "execution_count": 35,
   "id": "ac7cfbdc",
   "metadata": {},
   "outputs": [
    {
     "data": {
      "text/plain": [
       "0"
      ]
     },
     "execution_count": 35,
     "metadata": {},
     "output_type": "execute_result"
    }
   ],
   "source": [
    "for i in range(len(dirty_data)):\n",
    "  # get the customer_lat value at row i\n",
    "  lat = dirty_data.at[i, 'customer_lat']\n",
    "  # get the customer_lon value at row i\n",
    "  lon = dirty_data.at[i, 'customer_lon']\n",
    "  # If customer_lat is wrong but customer_lon is correct\n",
    "  if lat > 0 and lon > 0:\n",
    "    # then change the sign of customer_lat to negative\n",
    "    dirty_data.at[i, 'customer_lat'] = lat * (-1)\n",
    "  # If customer_lat is true but customer_lon is incorrect \n",
    "  elif lon < 0 and lat < 0:\n",
    "    # then change the sign of customer_lon to positive\n",
    "    dirty_data.at[i, 'customer_lon'] = lon * (-1)\n",
    "  # if both are wrong then it should be swapped\n",
    "  elif lat > 0 and lon < 0:\n",
    "    dirty_data.at[i, 'customer_lat'] = lon\n",
    "    dirty_data.at[i, 'customer_lon'] = lat\n",
    "\n",
    "\"\"\"Then we can see that it is fixed as below.\"\"\"\n",
    "\n",
    "len(dirty_data[(dirty_data.customer_lat > 0) | (dirty_data.customer_lon <= 0)])"
   ]
  },
  {
   "cell_type": "markdown",
   "id": "b4caff13",
   "metadata": {},
   "source": [
    "<div class=\"alert alert-block alert-warning\">\n",
    "\n",
    "### 4.7. Distance to Customer <a class=\"anchor\" name=\"Distance\"></a>\n",
    "    \n",
    "</div>\n",
    "\n",
    "Creating graph for simulating map by nx library\n"
   ]
  },
  {
   "cell_type": "code",
   "execution_count": 36,
   "id": "71a98dde",
   "metadata": {},
   "outputs": [],
   "source": [
    "graph = nx.Graph()\n",
    "all_edges = []\n",
    "\n",
    "# add edge to all_edges from edges dataset\n",
    "for i in range(len(edges)):\n",
    "  u = edges.at[i, \"u\"]\n",
    "  v = edges.at[i, \"v\"]\n",
    "  weight = edges.at[i, \"distance(m)\"]\n",
    "  # edge format as below \n",
    "  edge = (u,v, {'weight':weight})\n",
    "  all_edges.append(edge)\n",
    "\n",
    "# add node to the graph first from node dataset\n",
    "for i in range(len(nodes)):\n",
    "  graph.add_node(nodes.at[i, \"node\"])\n",
    "\n",
    "# add edges\n",
    "graph.add_edges_from(all_edges)\n",
    "\n",
    "\"\"\"For current branches dataframe. There are only lat and long with its branch_code. So I decide to get its node number to this dataframe for ease of work.\"\"\"\n",
    "\n",
    "branches\n",
    "\n",
    "# creating new columns to branches dataframe\n",
    "branches['node'] = 0\n",
    "for branch in branches.index:\n",
    "  for i in range(len(nodes)):\n",
    "    # give node number to the branch with its corresponding lat and long\n",
    "    if branches.at[branch, \"branch_lat\"] == nodes.at[i, \"lat\"] and branches.at[branch, \"branch_lon\"] == nodes.at[i, \"lon\"]:\n",
    "      branches.at[branch, \"node\"]  = nodes.at[i, \"node\"]\n",
    "      break\n"
   ]
  },
  {
   "cell_type": "markdown",
   "id": "791725c3",
   "metadata": {},
   "source": [
    "Then we use Dijktra algorithm from nx package to find the shortest distance. Then we use that calculated distance to check if there is error in distance column and fix it at the same time."
   ]
  },
  {
   "cell_type": "code",
   "execution_count": 37,
   "id": "3028e51c",
   "metadata": {},
   "outputs": [
    {
     "name": "stdout",
     "output_type": "stream",
     "text": [
      "Wrong at position: 10\n",
      "Wrong distance: 9.645\n",
      "Fixed distance: 9.637\n",
      "_______________________\n",
      "Wrong at position: 19\n",
      "Wrong distance: 9.297\n",
      "Fixed distance: 9.67\n",
      "_______________________\n",
      "Wrong at position: 27\n",
      "Wrong distance: 8.901\n",
      "Fixed distance: 9.403\n",
      "_______________________\n",
      "Wrong at position: 37\n",
      "Wrong distance: 10.111\n",
      "Fixed distance: 7.619\n",
      "_______________________\n",
      "Wrong at position: 73\n",
      "Wrong distance: 8.887\n",
      "Fixed distance: 8.523\n",
      "_______________________\n",
      "Wrong at position: 97\n",
      "Wrong distance: 8.282\n",
      "Fixed distance: 9.637\n",
      "_______________________\n",
      "Wrong at position: 180\n",
      "Wrong distance: 9.597\n",
      "Fixed distance: 6.461\n",
      "_______________________\n",
      "Wrong at position: 293\n",
      "Wrong distance: 9.812\n",
      "Fixed distance: 10.574\n",
      "_______________________\n",
      "Wrong at position: 425\n",
      "Wrong distance: 7.119\n",
      "Fixed distance: 8.995\n",
      "_______________________\n"
     ]
    }
   ],
   "source": [
    "for i in range(len(dirty_data)):\n",
    "  lat = dirty_data.at[i, \"customer_lat\"]\n",
    "  lon = dirty_data.at[i, \"customer_lon\"]\n",
    "  branch = dirty_data.at[i, \"branch_code\"]\n",
    "  old_distance = dirty_data.at[i, \"distance_to_customer_KM\"]\n",
    "\n",
    "  # getting the start which is the node of current branch\n",
    "  start = branches.at[branch, \"node\"]\n",
    "  target = \"\"\n",
    "  # finding target from customer_lat and customer_lon in nodes dataset\n",
    "  for j in range(len(nodes)):\n",
    "    if lat == nodes.at[j, \"lat\"] and lon == nodes.at[j, \"lon\"]:\n",
    "      target = nodes.at[j, \"node\"]\n",
    "      break\n",
    "\n",
    "  # use Dijkstra in nx to find shortest distance\n",
    "  correct_distance = nx.shortest_path_length(graph, start, target, weight='weight')\n",
    "  # as the distance in the graph currently is meter so we have to change to km\n",
    "  correct_distance = round(correct_distance * 0.001, 3)\n",
    "  if correct_distance != old_distance:\n",
    "    print(\"Wrong at position:\", i)\n",
    "    print(\"Wrong distance:\", old_distance)\n",
    "    print(\"Fixed distance:\", correct_distance)\n",
    "    print(\"_______________________\")\n",
    "    dirty_data.at[i, \"distance_to_customer_KM\"] = correct_distance"
   ]
  },
  {
   "cell_type": "markdown",
   "id": "b98a1067",
   "metadata": {},
   "source": [
    "Above are the rows that got wrong distance. The distance is then fixed to Fixed distance print value.\n",
    "\n",
    "<div class=\"alert alert-block alert-warning\">\n",
    "\n",
    "### 4.8. Loyalty Check <a class=\"anchor\" name=\"Loyalty\"></a>\n",
    "    \n",
    "</div>\n",
    "\n",
    "Lastly, we have to check if the customer actually has loyalty or not. For this part, we have to find the deliver fee by Linear Regression model and then compare with the delivery_fee (error-free column) to know if the customer has loyalty or not. If they have loyalty then the price should be half.\n",
    "\n",
    "Each branch has different linear model and we cannot take from outlier data as there are outlier in delivery_fee in outlier dataset. Thus we can train model on missing data.\n",
    "\n",
    "Below function is used to generate train data or test data for Linear Regression model. It will only select the required columns and also generate the required columns like day time and weekend for the linear regression.\n",
    "\n",
    "As the fee depends linearly on:\n",
    "* weekend or weekday (1 or 0)\n",
    "* time of the day (morning 0, afternoon 1, evening 2)\n",
    "* distance between branch and customer\n",
    "\n",
    "We need to check weekend or weekday from the date column and time of the day from the order_type. Which Breakfast is morning (0), Lunch is afternoon (1) and Dinner as evening (2). We also have to reset the delivery fee to its double price without discount to train correctly."
   ]
  },
  {
   "cell_type": "code",
   "execution_count": 38,
   "id": "91b4c8cd",
   "metadata": {},
   "outputs": [],
   "source": [
    "def get_data(data, train, missing):\n",
    "  # make copy of data\n",
    "  final_data = pd.DataFrame(data)\n",
    "  # select only required columns for following steps\n",
    "  final_data = final_data[[\"date\", \"order_type\", \"branch_code\", \"customerHasloyalty?\", \"distance_to_customer_KM\", \"delivery_fee\"]]\n",
    "  # create columns weekend and day_time for linear regression\n",
    "  final_data[\"weekend\"] = 1\n",
    "  final_data[\"day_time\"] = 0\n",
    "\n",
    "  # if the data has missing values then drop na and reset the index\n",
    "  if missing:\n",
    "    final_data = final_data.dropna().reset_index()\n",
    "  \n",
    "  for i in range(len(final_data)):\n",
    "    # change to datetime data type for using function weekday()\n",
    "    date = pd.to_datetime(final_data.at[i, \"date\"], dayfirst = True)\n",
    "    day = date.weekday()\n",
    "\n",
    "    # weekday() return number as 5 and 6 as Saturday and Sunday. \n",
    "    # Lower would be weekday\n",
    "    if day < 5:\n",
    "      final_data.at[i, \"weekend\"] = 0\n",
    "\n",
    "    # if this is the train data then we have to double price for delivery fee\n",
    "    # for customer that has loyalty to train model\n",
    "    # the test data does not need to double the price\n",
    "    if train:\n",
    "      loyalty = final_data.at[i, \"customerHasloyalty?\"]\n",
    "      if loyalty == 1:\n",
    "        fee = final_data.at[i, \"delivery_fee\"] * 2\n",
    "        final_data.at[i, \"delivery_fee\"] = fee\n",
    "\n",
    "    # get value for day_time with 0 for morning, 1 for afternoon, 2 for evening\n",
    "    order_type = final_data.at[i, \"order_type\"]\n",
    "    if order_type == \"Breakfast\":\n",
    "      final_data.at[i, \"day_time\"] = 0\n",
    "    elif order_type == \"Lunch\":\n",
    "      final_data.at[i, \"day_time\"] = 1\n",
    "    else:\n",
    "      final_data.at[i, \"day_time\"] = 2\n",
    "  \n",
    "  # if missing then drop index column as the result of reset_index above\n",
    "  if missing:\n",
    "    final_data = final_data.drop([\"date\", \"customerHasloyalty?\", \"index\", \"order_type\"], axis = 1)\n",
    "  # if not then drop the columns we do not need anymore for train model\n",
    "  else:\n",
    "    final_data = final_data.drop([\"date\", \"customerHasloyalty?\", \"order_type\"], axis = 1)\n",
    "\n",
    "  return final_data"
   ]
  },
  {
   "cell_type": "markdown",
   "id": "7bb13e73",
   "metadata": {},
   "source": [
    "Then we train the data and check the model performance. As mentioned in the specs, each branch has different model so we have to train different model on different branch.\n",
    "\n",
    "Below function use to split the train data into train data and test data for calculating R squared for check the fit of the model."
   ]
  },
  {
   "cell_type": "code",
   "execution_count": 39,
   "id": "34a9a9e9",
   "metadata": {},
   "outputs": [
    {
     "name": "stderr",
     "output_type": "stream",
     "text": [
      "C:\\Users\\MY PC\\AppData\\Local\\Temp\\ipykernel_21368\\4006291433.py:16: UserWarning: Parsing dates in %Y-%m-%d format when dayfirst=True was specified. Pass `dayfirst=False` or specify a format to silence this warning.\n",
      "  date = pd.to_datetime(final_data.at[i, \"date\"], dayfirst = True)\n"
     ]
    },
    {
     "name": "stdout",
     "output_type": "stream",
     "text": [
      "R squared score: NS 0.7991669372830486\n",
      "R squared score: BK 0.8563228839516474\n",
      "R squared score: TP 0.7681575803155336\n"
     ]
    }
   ],
   "source": [
    "def train_model(train):\n",
    "  # split train data and model to each branch\n",
    "  branch_train = {}\n",
    "  linear_model = {}\n",
    "\n",
    "  branch_train[\"NS\"] = train[train.branch_code == \"NS\"]\n",
    "  linear_model[\"NS\"] = LinearRegression()\n",
    "\n",
    "  branch_train[\"BK\"] = train[train.branch_code == \"BK\"]\n",
    "  linear_model[\"BK\"] = LinearRegression()\n",
    "\n",
    "  branch_train[\"TP\"] = train[train.branch_code == \"TP\"]\n",
    "  linear_model[\"TP\"] = LinearRegression()\n",
    "\n",
    "  for branch in branch_train:\n",
    "    x = branch_train[branch]\n",
    "    # train_test_split will split data to train and test data \n",
    "    X_train, X_test, y_train, y_test = train_test_split(x[[\"day_time\", \"distance_to_customer_KM\", \"weekend\"]].copy(),x[[\"delivery_fee\"]].copy(), random_state=111)\n",
    "    # train the model \n",
    "    linear_model[branch].fit(X_train, y_train)\n",
    "    # test the model score\n",
    "    print(\"R squared score:\", branch, linear_model[branch].score(X_test, y_test))\n",
    "\n",
    "  # train the model again with full data\n",
    "  for branch in train_branch:\n",
    "    # get train data with corresponding branch\n",
    "    x = branch_train[branch]\n",
    "    train_x = x[[\"day_time\", \"distance_to_customer_KM\", \"weekend\"]].copy()\n",
    "    train_y = x[[\"delivery_fee\"]].copy()\n",
    "    # train model of each branch\n",
    "    linear_model[branch] = LinearRegression()\n",
    "    linear_model[branch].fit(train_x, train_y)\n",
    "\n",
    "  return (branch_train, linear_model)\n",
    "\n",
    "# the data is for train and has missing data so we put true for both\n",
    "train_data = get_data(missing_data, True, True)\n",
    "\n",
    "train_branch = {}\n",
    "model = {}\n",
    "train_branch, model = train_model(train_data)"
   ]
  },
  {
   "cell_type": "markdown",
   "id": "5853ce84",
   "metadata": {},
   "source": [
    "We have very high R square score. So we can rely on these models. Then we train on the full train data again without spliting."
   ]
  },
  {
   "cell_type": "code",
   "execution_count": 40,
   "id": "648346bc",
   "metadata": {},
   "outputs": [
    {
     "name": "stderr",
     "output_type": "stream",
     "text": [
      "C:\\Users\\MY PC\\AppData\\Local\\Temp\\ipykernel_21368\\4006291433.py:16: UserWarning: Parsing dates in %Y-%m-%d format when dayfirst=True was specified. Pass `dayfirst=False` or specify a format to silence this warning.\n",
      "  date = pd.to_datetime(final_data.at[i, \"date\"], dayfirst = True)\n"
     ]
    }
   ],
   "source": [
    "test_data = get_data(dirty_data, False, False)"
   ]
  },
  {
   "cell_type": "markdown",
   "id": "daa348cd",
   "metadata": {},
   "source": [
    "From the model, we predict for each row then also calculate the half price. Then we check if the delivery_fee near half price or the original price. If it near half price then loyalty must be 1 and 0 otherwise. We can check which one nearer by substraction. If delivery_fee - half_price > delivery_fee - original_price then it means the loyalty is 0. It is 1 for opposite case. "
   ]
  },
  {
   "cell_type": "code",
   "execution_count": 41,
   "id": "da932095",
   "metadata": {},
   "outputs": [
    {
     "name": "stdout",
     "output_type": "stream",
     "text": [
      "Wrong position at 63\n",
      "Correct fee: 13.0485807\n",
      "predict: 12.762673725478356\n",
      "half price prediction 6.381336862739178\n",
      "wrong loyalty: 1\n",
      "fixed: 0\n",
      "_______________________________________\n",
      "Wrong position at 84\n",
      "Correct fee: 14.3876873\n",
      "predict: 14.518458980476453\n",
      "half price prediction 7.259229490238226\n",
      "wrong loyalty: 1\n",
      "fixed: 0\n",
      "_______________________________________\n",
      "Wrong position at 128\n",
      "Correct fee: 13.2729347\n",
      "predict: 12.984893873188508\n",
      "half price prediction 6.492446936594254\n",
      "wrong loyalty: 1\n",
      "fixed: 0\n",
      "_______________________________________\n",
      "Wrong position at 189\n",
      "Correct fee: 12.0134982\n",
      "predict: 12.334047984019012\n",
      "half price prediction 6.167023992009506\n",
      "wrong loyalty: 1\n",
      "fixed: 0\n",
      "_______________________________________\n",
      "Wrong position at 229\n",
      "Correct fee: 15.6122008\n",
      "predict: 16.08297470560352\n",
      "half price prediction 8.04148735280176\n",
      "wrong loyalty: 1\n",
      "fixed: 0\n",
      "_______________________________________\n",
      "Wrong position at 326\n",
      "Correct fee: 15.4306931\n",
      "predict: 14.196224599033659\n",
      "half price prediction 7.0981122995168295\n",
      "wrong loyalty: 1\n",
      "fixed: 0\n",
      "_______________________________________\n",
      "Wrong position at 476\n",
      "Correct fee: 13.6361679\n",
      "predict: 13.828009352534346\n",
      "half price prediction 6.914004676267173\n",
      "wrong loyalty: 1\n",
      "fixed: 0\n",
      "_______________________________________\n"
     ]
    }
   ],
   "source": [
    "# select only column which are features\n",
    "x = test_data[[\"day_time\", \"distance_to_customer_KM\", \"weekend\"]].copy()\n",
    "for i in range(len(test_data)):\n",
    "  branch = test_data.at[i, \"branch_code\"]\n",
    "  delivery_fee = test_data.at[i, \"delivery_fee\"]\n",
    "  # get only one row as data so we have to use .T to transpose\n",
    "  current_x = pd.DataFrame(x.iloc[i,:]).T\n",
    "  # predict on the current x with the trained model\n",
    "  prediction = model[branch].predict(current_x)[0][0]\n",
    "  # calculate the half price\n",
    "  half_price = prediction / 2\n",
    "  \n",
    "  # if original price without discount near the delivery fee more then loyal is 0\n",
    "  if abs(delivery_fee - half_price) > abs(delivery_fee - prediction):\n",
    "    true_loyalty = 0\n",
    "  # if half price near delivery fee more then loyal is 1\n",
    "  else:\n",
    "    true_loyalty = 1\n",
    "\n",
    "  # check if the loyal is correct or not\n",
    "  if dirty_data.at[i, \"customerHasloyalty?\"] != true_loyalty:\n",
    "    print(\"Wrong position at\", i)\n",
    "    print(\"Correct fee:\",delivery_fee)\n",
    "    print(\"predict:\",prediction)\n",
    "    print(\"half price prediction\", half_price)\n",
    "    print(\"wrong loyalty:\",dirty_data.at[i, \"customerHasloyalty?\"])\n",
    "    print(\"fixed:\",true_loyalty)\n",
    "    print(\"_______________________________________\")\n",
    "    dirty_data.at[i, \"customerHasloyalty?\"] = true_loyalty"
   ]
  },
  {
   "cell_type": "markdown",
   "id": "b0da5fe2",
   "metadata": {},
   "source": [
    "Above show position that got wrong loyalty. We can see that error only happen for loyalty 1 as they should not be loyalty customer as they have the original delivery price and not the discount price.\n",
    "\n",
    "<div class=\"alert alert-block alert-warning\">\n",
    "\n",
    "### 4.9. Writting Dirty Data <a class=\"anchor\" name=\"Writing_Dirty\"></a>\n",
    "    \n",
    "</div>\n",
    "\n",
    "After we have identified and fixed the error, we write it to *29376629_dirty_data_solution.csv"
   ]
  },
  {
   "cell_type": "code",
   "execution_count": 42,
   "id": "75c5d4b4",
   "metadata": {},
   "outputs": [],
   "source": [
    "dirty_data.to_csv('dirty_data_solution.csv')"
   ]
  },
  {
   "cell_type": "markdown",
   "id": "a551847c",
   "metadata": {},
   "source": [
    "<div class=\"alert alert-block alert-warning\">\n",
    "\n",
    "## 5. Outlier Data <a class=\"anchor\" name=\"Outlier\"></a>\n",
    "    \n",
    "</div>\n",
    "\n",
    "Then we move on to the outlier data which have outlier in the delivery fee."
   ]
  },
  {
   "cell_type": "code",
   "execution_count": 43,
   "id": "1c4ce320",
   "metadata": {},
   "outputs": [
    {
     "data": {
      "text/plain": [
       "<Axes: >"
      ]
     },
     "execution_count": 43,
     "metadata": {},
     "output_type": "execute_result"
    },
    {
     "data": {
      "image/png": "[encoded data removed]",
      "text/plain": [
       "<Figure size 640x480 with 1 Axes>"
      ]
     },
     "metadata": {},
     "output_type": "display_data"
    }
   ],
   "source": [
    "outlier_data[\"delivery_fee\"].plot(kind='box')"
   ]
  },
  {
   "cell_type": "markdown",
   "id": "f096b23d",
   "metadata": {},
   "source": [
    "From above observation, we can see that there are a lot of outliers. However, this is not the univariate outliers problem as delivery fee is related to **weekday or weekend**, **time of the day** and **distance to customer**. Moreover, it also depend on the whether they have loyalty or not for having discount. Thus, we have to use Multivariate Regression Residual Analysis for this task to solve multivariate problem.\n",
    "\n",
    "The residual can be calculated as below:\n",
    "\n",
    "***residual =  data delivery fee - predicted delivery fee***\n",
    "\n",
    "Then we have to remove the outlier by looking at the outlier of the residual. That is how we gonna use Multivariate Regression Residual Analysis for removing outlier of multivariate problem.\n",
    "\n",
    "We will train the model on outlier data first."
   ]
  },
  {
   "cell_type": "code",
   "execution_count": 44,
   "id": "bd7df413",
   "metadata": {},
   "outputs": [
    {
     "name": "stderr",
     "output_type": "stream",
     "text": [
      "C:\\Users\\MY PC\\AppData\\Local\\Temp\\ipykernel_21368\\4006291433.py:16: UserWarning: Parsing dates in %Y-%m-%d format when dayfirst=True was specified. Pass `dayfirst=False` or specify a format to silence this warning.\n",
      "  date = pd.to_datetime(final_data.at[i, \"date\"], dayfirst = True)\n"
     ]
    },
    {
     "name": "stdout",
     "output_type": "stream",
     "text": [
      "R squared score: NS 0.5850983894124344\n",
      "R squared score: BK 0.5845255190910382\n",
      "R squared score: TP 0.14517613926325468\n"
     ]
    },
    {
     "data": {
      "image/png": "[encoded data removed]",
      "text/plain": [
       "<Figure size 640x480 with 1 Axes>"
      ]
     },
     "metadata": {},
     "output_type": "display_data"
    },
    {
     "data": {
      "image/png": "[encoded data removed]",
      "text/plain": [
       "<Figure size 640x480 with 1 Axes>"
      ]
     },
     "metadata": {},
     "output_type": "display_data"
    },
    {
     "data": {
      "image/png": "[encoded data removed]",
      "text/plain": [
       "<Figure size 640x480 with 1 Axes>"
      ]
     },
     "metadata": {},
     "output_type": "display_data"
    }
   ],
   "source": [
    "# the data is for train and does not have missing data so we put true and false\n",
    "train_data = get_data(outlier_data, True, False)\n",
    "\n",
    "# calculate R squared of each model again\n",
    "train_branch, model = train_model(train_data)\n",
    "\n",
    "\"\"\"As seen above, the R squared of each branches are very low. The model cannot cover over 90% of the data. This is due to the outliers in the delivery_fee column. Now we will train the data again and predict it. Then we need to calculate the residual to plot the outlier of the residual. \"\"\"\n",
    "\n",
    "prediction = {}\n",
    "residual = {}\n",
    "\n",
    "# each branch have different models\n",
    "for branch in train_branch:\n",
    "  x = train_branch[branch]\n",
    "  # splitting into x and y for training\n",
    "  train_x = x[[\"day_time\", \"distance_to_customer_KM\", \"weekend\"]].copy()\n",
    "  train_y = x[[\"delivery_fee\"]].copy()\n",
    "  # reset the model \n",
    "  model[branch] = LinearRegression()\n",
    "  # fit the train data \n",
    "  model[branch].fit(train_x, train_y)\n",
    "  # use the model just trained to predict on train data x \n",
    "  prediction[branch] = model[branch].predict(train_x)\n",
    "  # calculate the residual \n",
    "  residual[branch] = train_y - prediction[branch]\n",
    "  # we change the name of delivery fee to residual just for clear\n",
    "  residual[branch] = residual[branch].rename(columns= {\"delivery_fee\": \"residual\"})\n",
    "  # boxplot the residual for each branch\n",
    "  residual[branch].plot(kind='box')"
   ]
  },
  {
   "cell_type": "markdown",
   "id": "0188c908",
   "metadata": {},
   "source": [
    "As seen above, we can see that there are outliers in the residual for all 3 branches. Then we need to create function to remove the outliers from the residual for each branch model. For this function, I base on the function from GeeksforGeeks \\[3]."
   ]
  },
  {
   "cell_type": "code",
   "execution_count": 45,
   "id": "2be4d79e",
   "metadata": {},
   "outputs": [],
   "source": [
    "def get_outliers(my_df):\n",
    "  # we find Q1 and Q3 by np then from that we can also calculate IQR\n",
    "  Q1 = np.quantile(my_df, 0.25)\n",
    "  Q3 = np.quantile(my_df, 0.75)\n",
    "  IQR = Q3 - Q1\n",
    "  # calcualte upper and lower bound\n",
    "  upper = Q3 + (1.5*IQR)\n",
    "  lower = Q1 - (1.5*IQR)\n",
    "  # then the outliers are rows that got residual value out of bounds\n",
    "  outliers = my_df[(my_df[\"residual\"] <= lower) | (my_df[\"residual\"] >= upper)]\n",
    "  return outliers\n",
    "\n",
    "all_outliers = {}\n",
    "for branch in residual:\n",
    "  # remove outliers from outlider data by get index of the outliers \n",
    "  outlier_data = outlier_data.drop(list(get_outliers(residual[branch]).index))\n",
    "  # we do the same for residual data to plot again\n",
    "  residual[branch] = residual[branch].drop(list(get_outliers(residual[branch]).index))"
   ]
  },
  {
   "cell_type": "markdown",
   "id": "7b736327",
   "metadata": {},
   "source": [
    "We then plot again to see if there are still many outliers or not."
   ]
  },
  {
   "cell_type": "code",
   "execution_count": 46,
   "id": "f6720311",
   "metadata": {},
   "outputs": [
    {
     "data": {
      "image/png": "[encoded data removed]",
      "text/plain": [
       "<Figure size 640x480 with 1 Axes>"
      ]
     },
     "metadata": {},
     "output_type": "display_data"
    },
    {
     "data": {
      "image/png": "[encoded data removed]",
      "text/plain": [
       "<Figure size 640x480 with 1 Axes>"
      ]
     },
     "metadata": {},
     "output_type": "display_data"
    },
    {
     "data": {
      "image/png": "[encoded data removed]",
      "text/plain": [
       "<Figure size 640x480 with 1 Axes>"
      ]
     },
     "metadata": {},
     "output_type": "display_data"
    }
   ],
   "source": [
    "for branch in train_branch:\n",
    "  residual[branch].plot(kind='box')"
   ]
  },
  {
   "cell_type": "markdown",
   "id": "e3cd31cf",
   "metadata": {},
   "source": [
    "We can see that the outliers are reduced significantly. We can check if the prediction also improved after the outliers are removed. "
   ]
  },
  {
   "cell_type": "code",
   "execution_count": 47,
   "id": "3c082864",
   "metadata": {},
   "outputs": [
    {
     "name": "stdout",
     "output_type": "stream",
     "text": [
      "R squared score: NS 0.8171085611314303\n",
      "R squared score: BK 0.9157719067008497\n",
      "R squared score: TP 0.7888000348459557\n"
     ]
    },
    {
     "name": "stderr",
     "output_type": "stream",
     "text": [
      "C:\\Users\\MY PC\\AppData\\Local\\Temp\\ipykernel_21368\\4006291433.py:16: UserWarning: Parsing dates in %Y-%m-%d format when dayfirst=True was specified. Pass `dayfirst=False` or specify a format to silence this warning.\n",
      "  date = pd.to_datetime(final_data.at[i, \"date\"], dayfirst = True)\n"
     ]
    }
   ],
   "source": [
    "# outlier data after got outlier removed, we have to reset the index to loop\n",
    "train_data = get_data(outlier_data.reset_index(), True, False)\n",
    "\n",
    "# calculate R squared of each model again\n",
    "train_branch, model = train_model(train_data)"
   ]
  },
  {
   "cell_type": "markdown",
   "id": "6f58b7b1",
   "metadata": {},
   "source": [
    "We can see that the R squared score is much higher than before removing outliers.\n",
    "\n",
    "<div class=\"alert alert-block alert-warning\">\n",
    "\n",
    "### Writting to files <a class=\"anchor\" name=\"Writting_Outlier\"></a>\n",
    "    \n",
    "</div>"
   ]
  },
  {
   "cell_type": "code",
   "execution_count": 48,
   "id": "99b9926e",
   "metadata": {},
   "outputs": [],
   "source": [
    "outlier_data.to_csv('outlier_data_solution.csv')"
   ]
  },
  {
   "cell_type": "markdown",
   "id": "a8d57a21",
   "metadata": {},
   "source": [
    "<div class=\"alert alert-block alert-warning\">\n",
    "\n",
    "## 6. Missing Data <a class=\"anchor\" name=\"Missing\"></a>\n",
    "    \n",
    "</div>\n",
    "\n",
    "Now we will handle the missing data. We have to impute the NA values of the missing data but not remove it. First, we need to see which columns has the missing values."
   ]
  },
  {
   "cell_type": "code",
   "execution_count": 49,
   "id": "9266e02e",
   "metadata": {},
   "outputs": [
    {
     "data": {
      "text/plain": [
       "order_id                     0\n",
       "date                         0\n",
       "time                         0\n",
       "order_type                   0\n",
       "branch_code                 50\n",
       "order_items                  0\n",
       "order_price                  0\n",
       "customer_lat                 0\n",
       "customer_lon                 0\n",
       "customerHasloyalty?          0\n",
       "distance_to_customer_KM      0\n",
       "delivery_fee               100\n",
       "dtype: int64"
      ]
     },
     "execution_count": 49,
     "metadata": {},
     "output_type": "execute_result"
    }
   ],
   "source": [
    "missing_data.isnull().sum()"
   ]
  },
  {
   "cell_type": "markdown",
   "id": "ab36fe9b",
   "metadata": {},
   "source": [
    "From above, we can see that there are missing values in branch_code column and delivery_fee column. Fortunately, we got the correct code set for each branch when we cleaning the data in the dirty data set. We can do the same for missing data as we did with dirty data.\n",
    "\n",
    "First, we need to create the missing dataframe which"
   ]
  },
  {
   "cell_type": "code",
   "execution_count": 50,
   "id": "7648315d",
   "metadata": {},
   "outputs": [
    {
     "data": {
      "text/html": [
       "<div>\n",
       "<style scoped>\n",
       "    .dataframe tbody tr th:only-of-type {\n",
       "        vertical-align: middle;\n",
       "    }\n",
       "\n",
       "    .dataframe tbody tr th {\n",
       "        vertical-align: top;\n",
       "    }\n",
       "\n",
       "    .dataframe thead th {\n",
       "        text-align: right;\n",
       "    }\n",
       "</style>\n",
       "<table border=\"1\" class=\"dataframe\">\n",
       "  <thead>\n",
       "    <tr style=\"text-align: right;\">\n",
       "      <th></th>\n",
       "      <th>branch_code</th>\n",
       "    </tr>\n",
       "  </thead>\n",
       "  <tbody>\n",
       "    <tr>\n",
       "      <th>0</th>\n",
       "      <td>False</td>\n",
       "    </tr>\n",
       "    <tr>\n",
       "      <th>1</th>\n",
       "      <td>False</td>\n",
       "    </tr>\n",
       "    <tr>\n",
       "      <th>2</th>\n",
       "      <td>False</td>\n",
       "    </tr>\n",
       "    <tr>\n",
       "      <th>3</th>\n",
       "      <td>False</td>\n",
       "    </tr>\n",
       "    <tr>\n",
       "      <th>4</th>\n",
       "      <td>False</td>\n",
       "    </tr>\n",
       "  </tbody>\n",
       "</table>\n",
       "</div>"
      ],
      "text/plain": [
       "   branch_code\n",
       "0        False\n",
       "1        False\n",
       "2        False\n",
       "3        False\n",
       "4        False"
      ]
     },
     "execution_count": 50,
     "metadata": {},
     "output_type": "execute_result"
    }
   ],
   "source": [
    "# missing dataframe with isnull() function which will return true and false if there is null values\n",
    "miss = pd.DataFrame(missing_data['branch_code'].isnull())\n",
    "miss.head()"
   ]
  },
  {
   "cell_type": "markdown",
   "id": "48dc0085",
   "metadata": {},
   "source": [
    "We then use miss dataframe to impute missing value to the na values."
   ]
  },
  {
   "cell_type": "code",
   "execution_count": 51,
   "id": "39849e7c",
   "metadata": {},
   "outputs": [
    {
     "data": {
      "text/plain": [
       "order_id                     0\n",
       "date                         0\n",
       "time                         0\n",
       "order_type                   0\n",
       "branch_code                  0\n",
       "order_items                  0\n",
       "order_price                  0\n",
       "customer_lat                 0\n",
       "customer_lon                 0\n",
       "customerHasloyalty?          0\n",
       "distance_to_customer_KM      0\n",
       "delivery_fee               100\n",
       "dtype: int64"
      ]
     },
     "execution_count": 51,
     "metadata": {},
     "output_type": "execute_result"
    }
   ],
   "source": [
    "for i in range(len(missing_data)):\n",
    "  # get the order_id\n",
    "  order_id = missing_data.at[i, \"order_id\"]\n",
    "  # get the 4th letter of order_id\n",
    "  relationship = order_id[3]\n",
    "  correct_code = \"\"\n",
    "  # if there is missing value at current index\n",
    "  if miss.at[i, \"branch_code\"]:\n",
    "    # check which branch code this order_id belong to\n",
    "    for code in correct_id:\n",
    "      if relationship in correct_id[code]:\n",
    "        correct_code = code\n",
    "        break\n",
    "    # impute the value\n",
    "    missing_data.at[i, \"branch_code\"] = correct_code\n",
    "\n",
    "missing_data.isnull().sum()"
   ]
  },
  {
   "cell_type": "markdown",
   "id": "2ed57673",
   "metadata": {},
   "source": [
    "As seen above, all the NA values in branch_code columns have been imputed. Now, we have to deal with na value in delivery_fee column. To impute the most accurate value, I will use all the rows that does not have missing data and combining with outlier data then dirty data. We can do this after the outlier is removed from outlier data and error is fixed in dirty data. We use that data to train the model for Linear Regression model. Then we use that model to predict the delivery values from day time, weekend or weekday and distance to customer."
   ]
  },
  {
   "cell_type": "code",
   "execution_count": 52,
   "id": "b661a5e9",
   "metadata": {},
   "outputs": [
    {
     "name": "stderr",
     "output_type": "stream",
     "text": [
      "C:\\Users\\MY PC\\AppData\\Local\\Temp\\ipykernel_21368\\4006291433.py:16: UserWarning: Parsing dates in %Y-%m-%d format when dayfirst=True was specified. Pass `dayfirst=False` or specify a format to silence this warning.\n",
      "  date = pd.to_datetime(final_data.at[i, \"date\"], dayfirst = True)\n"
     ]
    },
    {
     "name": "stdout",
     "output_type": "stream",
     "text": [
      "R squared score: NS 0.68479524474423\n",
      "R squared score: BK 0.8200350307930201\n",
      "R squared score: TP 0.8187936637736891\n"
     ]
    }
   ],
   "source": [
    "# concat all data \n",
    "all_data = [missing_data.copy(), outlier_data.copy(), dirty_data.copy()]\n",
    "\n",
    "# this is the train data and we have missing data so we have to put True for both arguments\n",
    "train_data = get_data(pd.concat(all_data), True, True)\n",
    "\n",
    "# train the model and also check R squared for each model\n",
    "train_branch, model = train_model(train_data)"
   ]
  },
  {
   "cell_type": "markdown",
   "id": "8c66bcce",
   "metadata": {},
   "source": [
    "We can see that the R squared scores are very high so we can rely on these models to impute the NA values in our missing data."
   ]
  },
  {
   "cell_type": "code",
   "execution_count": 53,
   "id": "bbcc0043",
   "metadata": {},
   "outputs": [
    {
     "name": "stderr",
     "output_type": "stream",
     "text": [
      "C:\\Users\\MY PC\\AppData\\Local\\Temp\\ipykernel_21368\\4006291433.py:16: UserWarning: Parsing dates in %Y-%m-%d format when dayfirst=True was specified. Pass `dayfirst=False` or specify a format to silence this warning.\n",
      "  date = pd.to_datetime(final_data.at[i, \"date\"], dayfirst = True)\n"
     ]
    },
    {
     "data": {
      "text/plain": [
       "order_id                   0\n",
       "date                       0\n",
       "time                       0\n",
       "order_type                 0\n",
       "branch_code                0\n",
       "order_items                0\n",
       "order_price                0\n",
       "customer_lat               0\n",
       "customer_lon               0\n",
       "customerHasloyalty?        0\n",
       "distance_to_customer_KM    0\n",
       "delivery_fee               0\n",
       "dtype: int64"
      ]
     },
     "execution_count": 53,
     "metadata": {},
     "output_type": "execute_result"
    }
   ],
   "source": [
    "\n",
    "\n",
    "# set up the test data \n",
    "test_data = get_data(missing_data, False, False)\n",
    "\n",
    "# getting the features for model\n",
    "x = test_data[[\"day_time\", \"distance_to_customer_KM\", \"weekend\"]].copy()\n",
    "# same thing we did for branch_code\n",
    "miss = pd.DataFrame(missing_data['delivery_fee'].isnull())\n",
    "\n",
    "for i in range(len(test_data)):\n",
    "  # if there is null value\n",
    "  if miss.at[i, \"delivery_fee\"]:\n",
    "    branch = test_data.at[i, \"branch_code\"]\n",
    "    # get only one row as data for prediction so we have to use .T to transpose\n",
    "    current_x = pd.DataFrame(x.iloc[i,:]).T\n",
    "    # predict on the current x with the trained model\n",
    "    prediction = model[branch].predict(current_x)[0][0]\n",
    "    # if customer has loyalty then we have to give 50% discount\n",
    "    if missing_data.at[i, \"customerHasloyalty?\"] == 1:\n",
    "      prediction = prediction / 2\n",
    "    # impute the values\n",
    "    missing_data.at[i, \"delivery_fee\"] = prediction\n",
    "\n",
    "# check if all the null imputed\n",
    "missing_data.isnull().sum()"
   ]
  },
  {
   "cell_type": "markdown",
   "id": "df8305cf",
   "metadata": {},
   "source": [
    "All the missing values are imputed. Now, we will write to solution file."
   ]
  },
  {
   "cell_type": "code",
   "execution_count": 54,
   "id": "4b051ac4",
   "metadata": {},
   "outputs": [],
   "source": [
    "missing_data.to_csv('missing_data_solution.csv')"
   ]
  },
  {
   "cell_type": "markdown",
   "id": "7ed1500a",
   "metadata": {},
   "source": [
    "<div class=\"alert alert-block alert-warning\">\n",
    "\n",
    "## 7. Summary and observation <a class=\"anchor\" name=\"Summary\"></a>\n",
    "    \n",
    "</div>\n",
    "\n",
    "From this project, I think handling dirty data is very challenging and take longer than I expected. I might not find out the relationship between order Id and branch code if there is no null value in missing data. Due to the missing data in branch code, I have to find if there is any columns related to the branch code. Therefore, the error might be very easy to miss out if we do not check carefully. \n",
    "\n",
    "For outlier data, it is very interesting to find out about the aspect of the multivariate outliers problem. This is very helpful for removing outliers of other model type as well. \n",
    "\n",
    "For missing data, it show how useful machine learning model as we can impute the missing data depending on the existed data we got. \n",
    "\n",
    "This assignment has helped me a lot for my data wrangling skills.\n",
    "\n",
    "# Reference\n",
    "\n",
    "\\[1] GeeksForGeeks. (2022). *Permutation and Combination in Python*. retrieved from:\n",
    "\n",
    "https://www.geeksforgeeks.org/permutation-and-combination-in-python/\n",
    "\n",
    "\\[2] Handling Illegal Matrix Operation.\n",
    "\n",
    "https://stackoverflow.com/questions/9155478/how-to-try-except-an-illegal-matrix-operation-due-to-singularity-in-numpy\n",
    "\n",
    "\\[3] GeeksForGeeks. (2021). *Finding the outlier points from Matplotlib*. Retrieved from:\n",
    "\n",
    "https://www.geeksforgeeks.org/finding-the-outlier-points-from-matplotlib/\n"
   ]
  }
 ],
 "metadata": {
  "kernelspec": {
   "display_name": "Python 3 (ipykernel)",
   "language": "python",
   "name": "python3"
  },
  "language_info": {
   "codemirror_mode": {
    "name": "ipython",
    "version": 3
   },
   "file_extension": ".py",
   "mimetype": "text/x-python",
   "name": "python",
   "nbconvert_exporter": "python",
   "pygments_lexer": "ipython3",
   "version": "3.11.7"
  }
 },
 "nbformat": 4,
 "nbformat_minor": 5
}
